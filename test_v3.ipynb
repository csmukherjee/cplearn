{
 "cells": [
  {
   "metadata": {},
   "cell_type": "code",
   "source": [
    "import numpy as np\n",
    "import plotly.express as px\n",
    "def plot_embedding(embedding, labels=None):\n",
    "    \"\"\"\n",
    "    Plot a 2D embedding with optional labels for coloring.\n",
    "\n",
    "    Args:\n",
    "        embedding (ndarray): shape (n_samples, 2)\n",
    "        labels (array-like, optional): labels for coloring points\n",
    "    \"\"\"\n",
    "    if labels is None:\n",
    "        labels = np.zeros(embedding.shape[0])  # default: all same\n",
    "\n",
    "    fig = px.scatter(\n",
    "        x=embedding[:, 0],\n",
    "        y=embedding[:, 1],\n",
    "        color=labels.astype(str),  # convert to string for discrete legend\n",
    "        title=\"2D Embedding Visualization\",\n",
    "        labels={\"x\": \"Dim 1\", \"y\": \"Dim 2\", \"color\": \"Label\"}\n",
    "    )\n",
    "\n",
    "    fig.update_layout(\n",
    "        width=1000,\n",
    "        height=800,\n",
    "        title=\"Custom size Plotly figure\"\n",
    "    )\n",
    "\n",
    "\n",
    "    fig.show()"
   ],
   "id": "979222d06f1b4d06",
   "outputs": [],
   "execution_count": null
  },
  {
   "cell_type": "code",
   "id": "initial_id",
   "metadata": {
    "collapsed": true
   },
   "source": [
    "f_path='/Users/chandrasekharmukherjee/Data/scRNA_IBD/'\n",
    "d_path=['bcells_final.h5ad',\n",
    "'cd4tcells_final.h5ad',\n",
    "'cd8tcells_final.h5ad',\n",
    "'epicolonic_final.h5ad',\n",
    "'fibperi_final.h5ad',\n",
    "'ilc_final.h5ad',\n",
    "'ilealepi_final.h5ad',\n",
    "'myeloid_final.h5ad',\n",
    "'plasmacells_final.h5ad']\n",
    "\n",
    "subset_number=1\n",
    "\n",
    "import scanpy as sc\n",
    "adata=sc.read_h5ad(f_path+d_path[subset_number])\n",
    "X=adata.obsm['X_harmony']\n",
    "n=X.shape[0]\n",
    "print(n)\n",
    "label=adata.obs['final_analysis'].to_numpy()\n",
    "pt_label=adata.obs['Patient'].to_numpy()\n"
   ],
   "outputs": [],
   "execution_count": null
  },
  {
   "metadata": {},
   "cell_type": "code",
   "source": [
    "import scanpy as sc\n",
    "nk_path='/Users/chandrasekharmukherjee/PycharmProjects/Personal/cplearn_biotest/NK_cells.h5ad'\n",
    "adata = sc.read_h5ad(nk_path)\n",
    "X=adata.obsm['X_HARMONY']\n",
    "label=adata.obs['ident'].to_numpy()"
   ],
   "id": "df3e4bdd11fd412a",
   "outputs": [],
   "execution_count": null
  },
  {
   "metadata": {},
   "cell_type": "code",
   "source": [
    "import data_call\n",
    "import numpy as np\n",
    "d_name='MNIST'\n",
    "X,label=data_call.get_dataset(d_name, mode='PCA')"
   ],
   "id": "731a27c94a0854cc",
   "outputs": [],
   "execution_count": null
  },
  {
   "metadata": {},
   "cell_type": "code",
   "source": [
    "import umap\n",
    "import numpy as np\n",
    "reducer=umap.UMAP()\n",
    "X_umap=reducer.fit_transform(X)\n",
    "\n",
    "#X_umap=np.array(adata.obsm['X_umap'])"
   ],
   "id": "f9c32a26de3a067f",
   "outputs": [],
   "execution_count": null
  },
  {
   "metadata": {},
   "cell_type": "code",
   "source": "print(len(set(label)),X.shape)",
   "id": "8410b290bd1391f3",
   "outputs": [],
   "execution_count": null
  },
  {
   "metadata": {},
   "cell_type": "code",
   "source": [
    "from cplearn_v3.corespect import Corespect\n",
    "corespect = Corespect(X)"
   ],
   "id": "8c4a84a1a230ba38",
   "outputs": [],
   "execution_count": null
  },
  {
   "metadata": {},
   "cell_type": "code",
   "source": "corespect.extract_layers(method='stable_rank',layer_extraction_params={'q':20,'r':10,'core_fraction':0.2,'resolution':1.25})",
   "id": "4f4298a166a8165a",
   "outputs": [],
   "execution_count": null
  },
  {
   "metadata": {},
   "cell_type": "code",
   "source": [
    "Layers_part=corespect.layers_\n",
    "c=0\n",
    "for layer in Layers_part:\n",
    "    c+=len(layer)\n",
    "    print(len(layer),len(set(layer)))\n",
    "print(c,X.shape[0])"
   ],
   "id": "39f99846259d26d",
   "outputs": [],
   "execution_count": null
  },
  {
   "metadata": {},
   "cell_type": "code",
   "source": [
    "for layer1 in Layers_part:\n",
    "    for layer2 in Layers_part:\n",
    "        print(len(set(layer1).intersection(set(layer2))),end=' ')\n",
    "\n",
    "    print('\\n')"
   ],
   "id": "bd3daf81bf35461b",
   "outputs": [],
   "execution_count": null
  },
  {
   "metadata": {},
   "cell_type": "code",
   "source": [
    "import numpy as np\n",
    "n=X.shape[0]\n",
    "r_label=np.empty(n, dtype=object)\n",
    "for i,layer in enumerate(Layers_part):\n",
    "    for node in layer:\n",
    "        r_label[node]= str(i) #str(label[node])+ str(i)\n",
    "\n",
    "plot_embedding(X_umap,labels=r_label)"
   ],
   "id": "a5502924023c104f",
   "outputs": [],
   "execution_count": null
  },
  {
   "metadata": {},
   "cell_type": "code",
   "source": [
    "X_umap_core=reducer.fit_transform(X[Layers_part[0]])\n",
    "plot_embedding(X_umap_core,label[Layers_part[0]])"
   ],
   "id": "5b93af2edafa8d17",
   "outputs": [],
   "execution_count": null
  },
  {
   "metadata": {},
   "cell_type": "code",
   "source": [
    "import leidenalg\n",
    "import numpy as np\n",
    "G=corespect.G\n",
    "n=G.vcount()\n",
    "G_core=G.induced_subgraph(Layers_part[0])\n",
    "print(G_core.vcount())\n",
    "partition = leidenalg.find_partition(\n",
    "    G_core,\n",
    "    leidenalg.RBConfigurationVertexPartition,  # modularity-based partition\n",
    "    resolution_parameter=0.7, # <-- control resolution here\n",
    "    seed = np.random.randint(int(1e9))\n",
    ")\n",
    "\n",
    "# Map back to original node ids\n",
    "id_map = np.array(G_core.vs[\"id\"], dtype=int)\n",
    "\n",
    "new_labels = -1 * np.ones(n, dtype=int)\n",
    "new_labels[id_map] = partition.membership\n",
    "\n",
    "print(len(set(new_labels)))\n",
    "\n"
   ],
   "id": "fa825fb89aef0edd",
   "outputs": [],
   "execution_count": null
  },
  {
   "metadata": {},
   "cell_type": "code",
   "source": "plot_embedding(X_umap,labels=label)\n",
   "id": "929d7909387293a0",
   "outputs": [],
   "execution_count": null
  },
  {
   "metadata": {},
   "cell_type": "code",
   "source": "",
   "id": "d6147d3a16c2b123",
   "outputs": [],
   "execution_count": null
  },
  {
   "metadata": {},
   "cell_type": "code",
   "source": [
    "from cplearn_v2.corespect import Corespect as CS_old\n",
    "corespect_old = CS_old(X)\n",
    "corespect_old.extract_layers(method='stable_rank',core_fraction=0.2,layer_extraction_params={'q':20,'r':20,'purify':1})\n",
    "Layers=corespect_old.layers_\n",
    "c=0\n",
    "for layer in Layers:\n",
    "    c+=len(layer)\n",
    "    print(len(layer),len(set(layer)))\n",
    "print(c,X.shape[0])"
   ],
   "id": "95944aa201e6547d",
   "outputs": [],
   "execution_count": null
  },
  {
   "metadata": {},
   "cell_type": "code",
   "source": [
    "r_label=-1*np.ones(len(label))\n",
    "for i,layer in enumerate(Layers):\n",
    "    for node in layer:\n",
    "        r_label[node]=i\n",
    "\n",
    "plot_embedding(X_umap,labels=r_label)"
   ],
   "id": "5e85850c72e86442",
   "outputs": [],
   "execution_count": null
  },
  {
   "metadata": {},
   "cell_type": "code",
   "source": [
    "from cplearn_v2.corespect import Corespect\n",
    "corespect = Corespect(X)"
   ],
   "id": "41b701fe6cb60404",
   "outputs": [],
   "execution_count": null
  },
  {
   "metadata": {},
   "cell_type": "code",
   "source": [
    "Total_Layers=[]\n",
    "for purify in [1]:\n",
    "    corespect.extract_layers(core_fraction=0.2,layer_extraction_params={'q':20,'r':10})\n",
    "    Layers=corespect.layers_\n",
    "    Total_Layers.append(Layers)\n",
    "    c=0\n",
    "    for layer in Layers:\n",
    "        c+=len(layer)\n",
    "        print(len(layer),len(set(layer)))\n",
    "    print(c,X.shape[0])\n",
    "\n",
    "    print('\\n\\n')"
   ],
   "id": "d851624cb51ead69",
   "outputs": [],
   "execution_count": null
  },
  {
   "metadata": {},
   "cell_type": "code",
   "source": [
    "import numpy as np\n",
    "Layers_part1=Total_Layers[0]\n",
    "n=X.shape[0]\n",
    "r_label=np.empty(n, dtype=object)\n",
    "for i,layer in enumerate(Layers_part1):\n",
    "    for node in layer:\n",
    "        r_label[node]=str(i)\n",
    "\n",
    "plot_embedding(X_umap,labels=r_label)"
   ],
   "id": "eb2560365e77c047",
   "outputs": [],
   "execution_count": null
  },
  {
   "metadata": {},
   "cell_type": "code",
   "source": "",
   "id": "f2db37e0f30c8620",
   "outputs": [],
   "execution_count": null
  }
 ],
 "metadata": {
  "kernelspec": {
   "display_name": "Python 3",
   "language": "python",
   "name": "python3"
  },
  "language_info": {
   "codemirror_mode": {
    "name": "ipython",
    "version": 2
   },
   "file_extension": ".py",
   "mimetype": "text/x-python",
   "name": "python",
   "nbconvert_exporter": "python",
   "pygments_lexer": "ipython2",
   "version": "2.7.6"
  }
 },
 "nbformat": 4,
 "nbformat_minor": 5
}
