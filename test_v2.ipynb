{
 "cells": [
  {
   "metadata": {},
   "cell_type": "code",
   "source": [
    "import data_call\n",
    "import numpy as np\n",
    "d_name='Muraro'\n",
    "X,label=data_call.get_dataset(d_name, mode='PCA')\n",
    "# X_cg,label_new=data_call.get_dataset(d_name, mode='CG')\n",
    "#\n",
    "# if type(X_cg) is not np.ndarray:\n",
    "#     X_cg=X_cg.toarray()\n",
    "#\n",
    "#\n",
    "# print(X.shape,label.shape)\n",
    "# print(type(X),type(X_cg))\n",
    "# print(X_cg.shape,label_new.shape)\n",
    "#\n",
    "#\n",
    "# hmap={}\n",
    "# t=0\n",
    "# for i in sorted(set(label)):\n",
    "#     hmap[i]=t\n",
    "#     t+=1\n",
    "# new_label= [hmap[i] for i in label]\n",
    "# y= new_label\n",
    "# true_k=len(set(y))"
   ],
   "id": "53563b907c606059",
   "outputs": [],
   "execution_count": null
  },
  {
   "metadata": {},
   "cell_type": "code",
   "source": [
    "import scanpy as sc\n",
    "nk_path='/Users/chandrasekharmukherjee/PycharmProjects/Personal/cplearn_biotest/NK_cells.h5ad'\n",
    "adata = sc.read_h5ad(nk_path)\n",
    "X=adata.obsm['X_HARMONY']\n",
    "label=adata.obs['ident'].to_numpy()"
   ],
   "id": "3a4439b387b56559",
   "outputs": [],
   "execution_count": null
  },
  {
   "metadata": {
    "ExecuteTime": {
     "end_time": "2025-10-01T04:23:24.321345Z",
     "start_time": "2025-10-01T04:23:22.094115Z"
    }
   },
   "cell_type": "code",
   "source": [
    "f_path='/Users/chandrasekharmukherjee/Data/scRNA_IBD/'\n",
    "d_path=['bcells_final.h5ad',\n",
    "'cd4tcells_final.h5ad',\n",
    "'cd8tcells_final.h5ad',\n",
    "'epicolonic_final.h5ad',\n",
    "'fibperi_final.h5ad',\n",
    "'ilc_final.h5ad',\n",
    "'ilealepi_final.h5ad',\n",
    "'myeloid_final.h5ad',\n",
    "'plasmacells_final.h5ad']\n",
    "\n",
    "subset_number=1\n",
    "\n",
    "import scanpy as sc\n",
    "adata=sc.read_h5ad(f_path+d_path[subset_number])\n",
    "X=adata.obsm['X_harmony']\n",
    "n=X.shape[0]\n",
    "print(n)\n",
    "ob_label=adata.obs['final_analysis'].to_numpy()\n",
    "pt_label=adata.obs['Patient'].to_numpy()\n"
   ],
   "id": "72a0825fd45f3597",
   "outputs": [
    {
     "name": "stdout",
     "output_type": "stream",
     "text": [
      "145704\n"
     ]
    }
   ],
   "execution_count": 1
  },
  {
   "cell_type": "code",
   "id": "initial_id",
   "metadata": {
    "collapsed": true
   },
   "source": [
    "from cplearn_v2.corespect import Corespect\n",
    "corespect = Corespect(X)"
   ],
   "outputs": [],
   "execution_count": null
  },
  {
   "metadata": {
    "ExecuteTime": {
     "end_time": "2025-10-01T04:36:54.849562Z",
     "start_time": "2025-10-01T04:36:54.846693Z"
    }
   },
   "cell_type": "code",
   "source": "print(X.shape)",
   "id": "a6b075729585eb20",
   "outputs": [
    {
     "name": "stdout",
     "output_type": "stream",
     "text": [
      "(145704, 50)\n"
     ]
    }
   ],
   "execution_count": 8
  },
  {
   "metadata": {},
   "cell_type": "code",
   "source": [
    "Total_Layers=[]\n",
    "for purify in [1]:\n",
    "    corespect.extract_layers(method='stable_rank',core_fraction=0.2,layer_extraction_params={'q':20,'r':10,'purify':purify})\n",
    "    Layers=corespect.layers_\n",
    "    Total_Layers.append(Layers)\n",
    "    c=0\n",
    "    for layer in Layers:\n",
    "        c+=len(layer)\n",
    "        print(len(layer),len(set(layer)))\n",
    "    print(c,X.shape[0])\n",
    "\n",
    "    print('\\n\\n')"
   ],
   "id": "d5f9f01226ce5323",
   "outputs": [],
   "execution_count": null
  },
  {
   "metadata": {},
   "cell_type": "code",
   "source": [
    "corespect.extract_layers()\n",
    "Layers_part=corespect.layers_\n",
    "c=0\n",
    "for layer in Layers_part:\n",
    "    c+=len(layer)\n",
    "    print(len(layer),len(set(layer)))\n",
    "print(c,X.shape[0])"
   ],
   "id": "92b88520fd3a8fe3",
   "outputs": [],
   "execution_count": null
  },
  {
   "metadata": {},
   "cell_type": "code",
   "source": [
    "corespect.extract_layers(method='structural_majority')\n",
    "Layers_struc=corespect.layers_\n",
    "c=0\n",
    "for layer in Layers_struc:\n",
    "    c+=len(layer)\n",
    "    print(len(layer),len(set(layer)))\n",
    "print(c,X.shape[0])"
   ],
   "id": "1a2677d4aa1750b2",
   "outputs": [],
   "execution_count": null
  },
  {
   "metadata": {},
   "cell_type": "code",
   "source": "",
   "id": "361f48ee8d51159a",
   "outputs": [],
   "execution_count": null
  },
  {
   "metadata": {},
   "cell_type": "code",
   "source": [
    "corespect.extract_layers(method='stable_rank',core_fraction=0.2,layer_extraction_params={'q':20,'r':10})\n",
    "Layers=corespect.layers_\n",
    "c=0\n",
    "for layer in Layers:\n",
    "    c+=len(layer)\n",
    "    print(len(layer),len(set(layer)))\n",
    "print(c,X.shape[0])\n",
    "\n",
    "#In Stable_Rank we should also clean up the core by using the clean recursive majority.\n",
    "#Points that are\n"
   ],
   "id": "9f0f602748480063",
   "outputs": [],
   "execution_count": null
  },
  {
   "metadata": {},
   "cell_type": "code",
   "source": [
    "corespect.extract_layers(method='stable_rank',core_fraction=0.2,layer_extraction_params={'q':20,'r':10,'purify':1})\n",
    "Pure_Layers_1=corespect.layers_\n",
    "c=0\n",
    "for layer in Pure_Layers_1:\n",
    "    c+=len(layer)\n",
    "    print(len(layer),len(set(layer)))\n",
    "print(c,X.shape[0])"
   ],
   "id": "3ea605a373eed45",
   "outputs": [],
   "execution_count": null
  },
  {
   "metadata": {},
   "cell_type": "code",
   "source": [
    "corespect.extract_layers(method='stable_rank',core_fraction=0.2,layer_extraction_params={'q':20,'r':10,'purify':2})\n",
    "Pure_Layers_2=corespect.layers_\n",
    "c=0\n",
    "for layer in Pure_Layers_2:\n",
    "    c+=len(layer)\n",
    "    print(len(layer),len(set(layer)))\n",
    "print(c,X.shape[0])"
   ],
   "id": "bcd225da9daf3e5c",
   "outputs": [],
   "execution_count": null
  },
  {
   "metadata": {},
   "cell_type": "code",
   "source": [
    "import numpy as np\n",
    "import plotly.express as px\n",
    "def plot_embedding(embedding, labels=None):\n",
    "    \"\"\"\n",
    "    Plot a 2D embedding with optional labels for coloring.\n",
    "\n",
    "    Args:\n",
    "        embedding (ndarray): shape (n_samples, 2)\n",
    "        labels (array-like, optional): labels for coloring points\n",
    "    \"\"\"\n",
    "    if labels is None:\n",
    "        labels = np.zeros(embedding.shape[0])  # default: all same\n",
    "\n",
    "    fig = px.scatter(\n",
    "        x=embedding[:, 0],\n",
    "        y=embedding[:, 1],\n",
    "        color=labels.astype(str),  # convert to string for discrete legend\n",
    "        title=\"2D Embedding Visualization\",\n",
    "        labels={\"x\": \"Dim 1\", \"y\": \"Dim 2\", \"color\": \"Label\"}\n",
    "    )\n",
    "\n",
    "    fig.update_layout(\n",
    "        width=1000,\n",
    "        height=800,\n",
    "        title=\"Custom size Plotly figure\"\n",
    "    )\n",
    "\n",
    "\n",
    "    fig.show()\n"
   ],
   "id": "452a1b1ed7138f6e",
   "outputs": [],
   "execution_count": null
  },
  {
   "metadata": {},
   "cell_type": "code",
   "source": [
    "import umap\n",
    "\n",
    "\n",
    "reducer=umap.UMAP()\n",
    "X_umap=reducer.fit_transform(X)"
   ],
   "id": "d39bca34fa17a76c",
   "outputs": [],
   "execution_count": null
  },
  {
   "metadata": {},
   "cell_type": "code",
   "source": "plot_embedding(X_umap)",
   "id": "5198e8d88da0fac1",
   "outputs": [],
   "execution_count": null
  },
  {
   "metadata": {},
   "cell_type": "code",
   "source": "",
   "id": "a37b5435c1c7baa1",
   "outputs": [],
   "execution_count": null
  },
  {
   "metadata": {},
   "cell_type": "code",
   "source": "",
   "id": "1f00ecc005645545",
   "outputs": [],
   "execution_count": null
  },
  {
   "metadata": {},
   "cell_type": "code",
   "source": "plot_embedding(X_umap,labels=ob_label)",
   "id": "ef63f52a1431b473",
   "outputs": [],
   "execution_count": null
  },
  {
   "metadata": {},
   "cell_type": "code",
   "source": [
    "from cplearn_v2.corespect.ranking import FlowRank\n",
    "layer=Total_Layers[1][0]\n",
    "n=X.shape[0]\n",
    "hmap=-1*np.ones(n)\n",
    "for i,node in  enumerate(layer):\n",
    "    hmap[node]=i\n",
    "\n",
    "X_c=X[np.array(layer).astype(int)]\n",
    "final_score=FlowRank(X_c,{'q':10,'r':5})\n",
    "sorted_nodes= sorted(final_score, key=lambda k: final_score[k], reverse=True)\n",
    "core_nodes_c=np.array(sorted_nodes[:int(0.3*len(layer))]).astype(int)\n",
    "new_cores=[layer[ell] for ell in core_nodes_c]\n",
    "\n"
   ],
   "id": "37c3df97d6068569",
   "outputs": [],
   "execution_count": null
  },
  {
   "metadata": {},
   "cell_type": "code",
   "source": [
    "final_score=FlowRank(X,{'q':20,'r':10})\n",
    "sorted_nodes= sorted(final_score, key=lambda k: final_score[k], reverse=True)\n",
    "core_nodes=np.array(sorted_nodes[:int(0.5*n)]).astype(int)"
   ],
   "id": "fa09968ce9d87518",
   "outputs": [],
   "execution_count": null
  },
  {
   "metadata": {},
   "cell_type": "code",
   "source": "X_c_umap=reducer.fit_transform(X_c)",
   "id": "79d4c9ca3e1d6edb",
   "outputs": [],
   "execution_count": null
  },
  {
   "metadata": {},
   "cell_type": "code",
   "source": [
    "r_label=-1*np.ones(X_c.shape[0])\n",
    "for ell in core_nodes_c:\n",
    "    r_label[ell]=0\n",
    "\n",
    "plot_embedding(X_c_umap,labels=r_label)"
   ],
   "id": "b132d92e89a52f72",
   "outputs": [],
   "execution_count": null
  },
  {
   "metadata": {},
   "cell_type": "code",
   "source": [
    "round_label=-1*np.ones(X.shape[0])\n",
    "\n",
    "for node in layer:\n",
    "    round_label[node]=0\n",
    "\n",
    "for node in new_cores:\n",
    "    round_label[node]=1\n",
    "\n",
    "plot_embedding(X_umap,labels=round_label)\n",
    "\n",
    "round_label=-1*np.ones(X.shape[0])\n",
    "\n",
    "\n",
    "for node in core_nodes:\n",
    "    round_label[node]=0\n",
    "\n",
    "\n",
    "plot_embedding(X_umap,labels=round_label)"
   ],
   "id": "25224a7903d2275f",
   "outputs": [],
   "execution_count": null
  },
  {
   "metadata": {},
   "cell_type": "code",
   "source": [
    "round_label=-1*np.ones(X.shape[0])\n",
    "for i,layer in enumerate(Layers_part):\n",
    "    for node in layer:\n",
    "        round_label[node]=i\n",
    "\n",
    "plot_embedding(X_umap,labels=round_label)"
   ],
   "id": "ce52ed6eb929277e",
   "outputs": [],
   "execution_count": null
  },
  {
   "metadata": {},
   "cell_type": "code",
   "source": "plot_embedding(X_umap,labels=ob_label)",
   "id": "49a87b13f4aaa14a",
   "outputs": [],
   "execution_count": null
  },
  {
   "metadata": {},
   "cell_type": "code",
   "source": "plot_embedding(X_umap[Total_Layers[0][0]],labels=ob_label[Total_Layers[0][0]])",
   "id": "e16ee50af99bc700",
   "outputs": [],
   "execution_count": null
  },
  {
   "metadata": {},
   "cell_type": "code",
   "source": [
    "from cplearn_v2.corespect.ranking import FlowRank\n",
    "layer=Total_Layers[0][0]\n",
    "n=X.shape[0]\n",
    "hmap=-1*np.ones(n)\n",
    "for i,node in  enumerate(layer):\n",
    "    hmap[node]=i\n",
    "\n",
    "X_c=X[np.array(layer).astype(int)]\n",
    "final_score=FlowRank(X_c,{'q':10,'r':5})\n"
   ],
   "id": "e2e04b2bb061fed0",
   "outputs": [],
   "execution_count": null
  },
  {
   "metadata": {},
   "cell_type": "code",
   "source": [
    "Layers_h=Total_Layers[0]\n",
    "layer_h=Layers_h[0]\n",
    "sorted_nodes= sorted(final_score, key=lambda k: final_score[k], reverse=True)\n",
    "core_nodes_c=np.array(sorted_nodes[:int(0.2*len(layer))]).astype(int)\n",
    "new_cores=[layer_h[ell] for ell in core_nodes_c]"
   ],
   "id": "cb31481e81fcee3",
   "outputs": [],
   "execution_count": null
  },
  {
   "metadata": {},
   "cell_type": "code",
   "source": [
    "round_here=-1*np.zeros(X.shape[0])\n",
    "\n",
    "for i,layer in enumerate(Layers_h):\n",
    "    for node in layer:\n",
    "        round_here[node]=i+1\n",
    "\n",
    "for node in new_cores:\n",
    "    round_here[node]=0\n",
    "\n",
    "\n",
    "plot_embedding(X_umap,labels=round_here)\n"
   ],
   "id": "2b306164b8a8a824",
   "outputs": [],
   "execution_count": null
  },
  {
   "metadata": {},
   "cell_type": "code",
   "source": [
    "import numpy as np\n",
    "for Layers_ch in Total_Layers:\n",
    "    round_label=-1*np.ones(X.shape[0])\n",
    "    for i,layer in enumerate(Layers_ch):\n",
    "        for node in layer:\n",
    "            round_label[node]=i\n",
    "\n",
    "    plot_embedding(X_umap,labels=round_label)\n",
    "    print(\"Next\")"
   ],
   "id": "a37a21646381b590",
   "outputs": [],
   "execution_count": null
  },
  {
   "metadata": {},
   "cell_type": "code",
   "source": [
    "import numpy as np\n",
    "for Layers_ch in [Pure_Layers]:\n",
    "    round_label=-1*np.ones(X.shape[0])\n",
    "    for i,layer in enumerate(Layers_ch):\n",
    "        for node in layer:\n",
    "            round_label[node]=i\n",
    "\n",
    "    plot_embedding(X_umap,labels=round_label)\n",
    "    print(\"Next\")"
   ],
   "id": "e4eb5d9736b207a4",
   "outputs": [],
   "execution_count": null
  },
  {
   "metadata": {},
   "cell_type": "code",
   "source": [
    "from cplearn_v2.utils.clustering_algo import louvain\n",
    "from cplearn_v2.utils.gen_utils import get_kNN\n",
    "\n",
    "from sklearn.metrics import normalized_mutual_info_score as NMI\n",
    "import networkx as nx\n",
    "\n",
    "\n",
    "\n",
    "G = nx.DiGraph()\n",
    "n=X.shape[0]\n",
    "\n",
    "for i in range(n):\n",
    "    G.add_node(i)\n",
    "\n",
    "knn_list, _ = get_kNN(X, q=20)\n",
    "for i in range(n):\n",
    "    for j in knn_list[i, :]:\n",
    "        if i != j:\n",
    "            G.add_edge(i, j, weight=1)\n",
    "\n"
   ],
   "id": "4def7e4b788dff8d",
   "outputs": [],
   "execution_count": null
  },
  {
   "metadata": {},
   "cell_type": "code",
   "source": [
    "label_list=[]\n",
    "for _ in range(5):\n",
    "\n",
    "    label_map=louvain(G)\n",
    "    labels=-1*np.ones(n)\n",
    "    for i in range(n):\n",
    "        labels[i]=label_map[i]\n",
    "\n",
    "    label_list.append(labels)\n"
   ],
   "id": "db175cd483a61daa",
   "outputs": [],
   "execution_count": null
  },
  {
   "metadata": {},
   "cell_type": "code",
   "source": [
    "from sklearn.metrics import normalized_mutual_info_score as NMI\n",
    "from sklearn.metrics import adjusted_mutual_info_score as ARI\n",
    "\n",
    "def calc_run_wise_similarity(cluster_list_f):\n",
    "    cluster_list_f = sorted(cluster_list_f, key=lambda x: len(set(x)))\n",
    "\n",
    "    for clusters_f in cluster_list_f:\n",
    "        print(len(set(clusters_f)), end=', ')\n",
    "\n",
    "    print()\n",
    "\n",
    "    print(\"NMI Matrix:\\n\")\n",
    "    nmi_mat = np.zeros((len(cluster_list_f), len(cluster_list_f)))\n",
    "    for i in range(len(cluster_list_f)):\n",
    "        for j in range(len(cluster_list_f)):\n",
    "            nmi_mat[i, j] = NMI(cluster_list_f[i], cluster_list_f[j])\n",
    "\n",
    "    for row in nmi_mat:\n",
    "        print(\" \".join(f\"{val:6.2f}\" for val in row))\n",
    "\n",
    "    print(\"\\n\\n\")\n",
    "\n",
    "    print(\"ARI Matrix:\\n\")\n",
    "    ari_mat = np.zeros((len(cluster_list_f), len(cluster_list_f)))\n",
    "    for i in range(len(cluster_list_f)):\n",
    "        for j in range(len(cluster_list_f)):\n",
    "            ari_mat[i, j] = ARI(cluster_list_f[i], cluster_list_f[j])\n",
    "\n",
    "    for row in ari_mat:\n",
    "        print(\" \".join(f\"{val:6.2f}\" for val in row))"
   ],
   "id": "bc4204afef9fc4e3",
   "outputs": [],
   "execution_count": null
  },
  {
   "metadata": {},
   "cell_type": "code",
   "source": [
    "import networkx as nx\n",
    "import igraph as ig\n",
    "from cplearn_v2.utils.gen_utils import get_kNN"
   ],
   "id": "5aa65ea4290e208",
   "outputs": [],
   "execution_count": null
  },
  {
   "metadata": {},
   "cell_type": "code",
   "source": "knn_list, _ = get_kNN(X, q=20)",
   "id": "22903bc19d5edd40",
   "outputs": [],
   "execution_count": null
  },
  {
   "metadata": {},
   "cell_type": "code",
   "source": [
    "G1=nx.DiGraph()\n",
    "for i in range(n):\n",
    "    for j in knn_list[i, :]:\n",
    "        if i != j:\n",
    "            G1.add_edge(i, j, weight=1)"
   ],
   "id": "daa290d39ea32178",
   "outputs": [],
   "execution_count": null
  },
  {
   "metadata": {},
   "cell_type": "code",
   "source": [
    "from numba import njit\n",
    "\n",
    "@njit\n",
    "def get_edge_list(knn_list_local):\n",
    "    edge_list=[]\n",
    "    for i_loc in range(n):\n",
    "        for j_loc in knn_list_local[i_loc, :]:\n",
    "            if i_loc != j_loc:\n",
    "                edge_list.append((i_loc,j_loc))\n",
    "\n",
    "    return edge_list"
   ],
   "id": "51c23f9ba3c09f7",
   "outputs": [],
   "execution_count": null
  },
  {
   "metadata": {},
   "cell_type": "code",
   "source": "e_list=get_edge_list(knn_list)",
   "id": "7f4adccd1a3652b8",
   "outputs": [],
   "execution_count": null
  },
  {
   "metadata": {},
   "cell_type": "code",
   "source": [
    "G2=ig.Graph(directed=True)\n",
    "G2.add_vertices(n)"
   ],
   "id": "8e9b5f10a3dc4081",
   "outputs": [],
   "execution_count": null
  },
  {
   "metadata": {},
   "cell_type": "code",
   "source": "G2.add_edges(e_list)",
   "id": "5a13a9efffa7b77f",
   "outputs": [],
   "execution_count": null
  },
  {
   "metadata": {},
   "cell_type": "code",
   "source": "from cplearn_v2.utils.clustering_algo import louvain",
   "id": "16753d2190803935",
   "outputs": [],
   "execution_count": null
  },
  {
   "metadata": {},
   "cell_type": "code",
   "source": "label_map=louvain(G1)",
   "id": "ead2604a19ff986",
   "outputs": [],
   "execution_count": null
  },
  {
   "metadata": {},
   "cell_type": "code",
   "source": "pip install leidenalg",
   "id": "e8c0e3cf2bcf0593",
   "outputs": [],
   "execution_count": null
  },
  {
   "metadata": {},
   "cell_type": "code",
   "source": [
    "import leidenalg\n",
    "partition = leidenalg.find_partition(\n",
    "    G2,\n",
    "    leidenalg.ModularityVertexPartition\n",
    ")"
   ],
   "id": "7aa400afa8c1ea60",
   "outputs": [],
   "execution_count": null
  },
  {
   "metadata": {},
   "cell_type": "code",
   "source": [
    "partition_n = leidenalg.find_partition(\n",
    "    G2,\n",
    "    leidenalg.RBConfigurationVertexPartition,  # modularity-based partition\n",
    "    resolution_parameter=1                   # <-- control resolution here\n",
    ")"
   ],
   "id": "40127e6965a97345",
   "outputs": [],
   "execution_count": null
  },
  {
   "metadata": {},
   "cell_type": "code",
   "source": [
    "for clusters in partition_n:\n",
    "    print(len(clusters),end=' ')"
   ],
   "id": "47c96777dd7023eb",
   "outputs": [],
   "execution_count": null
  },
  {
   "metadata": {},
   "cell_type": "code",
   "source": [
    "label_new=-1*np.ones(n)\n",
    "for i,clusters in enumerate(partition_n):\n",
    "    for node in clusters:\n",
    "        label_new[node]=i"
   ],
   "id": "1ccac7a456f4f2df",
   "outputs": [],
   "execution_count": null
  },
  {
   "metadata": {},
   "cell_type": "code",
   "source": [
    "label_louv=-1*np.ones(n)\n",
    "for i in range(n):\n",
    "    label_louv[i]=label_map[i]\n",
    "\n",
    "print(len(set(label_louv)))"
   ],
   "id": "f53edb674389de15",
   "outputs": [],
   "execution_count": null
  },
  {
   "metadata": {},
   "cell_type": "code",
   "source": [
    "from sklearn.metrics import adjusted_mutual_info_score as AMI\n",
    "from sklearn.metrics import adjusted_rand_score as ARI\n",
    "\n",
    "print(ARI(label_louv,label_new),ARI(label_new,label_louv))"
   ],
   "id": "11bcc24a94100ebf",
   "outputs": [],
   "execution_count": null
  },
  {
   "metadata": {
    "ExecuteTime": {
     "end_time": "2025-10-01T08:09:53.937866Z",
     "start_time": "2025-10-01T08:09:53.925344Z"
    }
   },
   "cell_type": "code",
   "source": [
    "\n",
    "print(min(deg_list),max(deg_list))"
   ],
   "id": "1c2e8df66c094e9d",
   "outputs": [
    {
     "name": "stdout",
     "output_type": "stream",
     "text": [
      "20 20\n"
     ]
    }
   ],
   "execution_count": 87
  },
  {
   "metadata": {},
   "cell_type": "code",
   "outputs": [],
   "execution_count": null,
   "source": "",
   "id": "a695ebd5bf6b27ac"
  },
  {
   "metadata": {},
   "cell_type": "code",
   "source": "edge_list_again=G2.get_edgelist()",
   "id": "f637e5ba32e1cae",
   "outputs": [],
   "execution_count": null
  },
  {
   "metadata": {},
   "cell_type": "code",
   "source": [
    "@njit\n",
    "def get_induced_edge_list(edge_list,subset,n):\n",
    "\n",
    "    hmap=-1*np.ones(n)\n",
    "    for ell in subset:\n",
    "        hmap[ell]=1\n",
    "\n",
    "    new_edge_list=[]\n",
    "\n",
    "    for u,v in edge_list:\n",
    "        if hmap[u]==1 and hmap[v]==1:\n",
    "            new_edge_list.append((u,v))\n",
    "\n",
    "    return new_edge_list"
   ],
   "id": "9117432e90dabc96",
   "outputs": [],
   "execution_count": null
  },
  {
   "metadata": {},
   "cell_type": "code",
   "source": "new_edge_list=get_induced_edge_list(edge_list_again,new_cores,n)",
   "id": "dc72beb4f303e98e",
   "outputs": [],
   "execution_count": null
  },
  {
   "metadata": {},
   "cell_type": "code",
   "source": [
    "# Store IDs as a vertex attribute\n",
    "G2.vs[\"id\"] = list(range(G2.vcount()))\n",
    "subg = G2.induced_subgraph(new_cores)"
   ],
   "id": "d75077612c7743a2",
   "outputs": [],
   "execution_count": null
  },
  {
   "metadata": {},
   "cell_type": "code",
   "source": "print(G2.clique_number())",
   "id": "9060280725e9f085",
   "outputs": [],
   "execution_count": null
  },
  {
   "metadata": {},
   "cell_type": "code",
   "source": "print(G1.number_of_nodes())",
   "id": "fcc58ac166981241",
   "outputs": [],
   "execution_count": null
  },
  {
   "metadata": {},
   "cell_type": "code",
   "source": [
    "from numba.typed import List\n",
    "\n",
    "ng_list=[]\n",
    "\n",
    "#Preparing for numba. ng_list is a n*r matrix.\n",
    "for ell in range(n):\n",
    "  x=[]\n",
    "  for v in G1.neighbors(ell):\n",
    "    x.append(int(v))\n",
    "\n",
    "  ng_list.append(List(x))"
   ],
   "id": "ed0501a62f3ec516",
   "outputs": [],
   "execution_count": null
  },
  {
   "metadata": {},
   "cell_type": "code",
   "source": "print(n)",
   "id": "d8cc22979601c497",
   "outputs": [],
   "execution_count": null
  },
  {
   "metadata": {},
   "cell_type": "code",
   "source": [
    "from numba.typed import List\n",
    "\n",
    "@njit\n",
    "def get_numba_elist(edge_list,n):\n",
    "\n",
    "    #Preparing for numba. ng_list is a n*r matrix.\n",
    "    ng_list = List()\n",
    "    for _ in range(n):\n",
    "        ng_list.append(List.empty_list(np.int64))\n",
    "\n",
    "    for u,v in edge_list:\n",
    "        ng_list[u].append(v)\n",
    "\n",
    "    # f_ng_list=[]\n",
    "    # for ell in range(n):\n",
    "    #       f_ng_list.append(List(ng_list[ell]))\n",
    "\n",
    "@njit\n",
    "def build_neighbors(edge_list, n, max_deg):\n",
    "    neigh = -np.ones((n, max_deg), dtype=np.int64)  # -1 = empty slot\n",
    "    deg = np.zeros(n, dtype=np.int64)\n",
    "\n",
    "    for u,v in edge_list:\n",
    "        idx = deg[u]\n",
    "        neigh[u, idx] = v\n",
    "        deg[u] += 1\n",
    "    return neigh, deg\n",
    "\n",
    "\n",
    "build_neighbors(e_list,n,20)\n",
    "\n",
    "#get_numba_elist(e_list,n)\n"
   ],
   "id": "8c36ab2240b825d0",
   "outputs": [],
   "execution_count": null
  },
  {
   "metadata": {},
   "cell_type": "code",
   "source": "build_neighbors(e_list,n,20)",
   "id": "97c00900f5ef7073",
   "outputs": [],
   "execution_count": null
  },
  {
   "metadata": {
    "ExecuteTime": {
     "end_time": "2025-10-01T06:05:28.273388Z",
     "start_time": "2025-10-01T06:04:41.800704Z"
    }
   },
   "cell_type": "code",
   "source": [
    "from cplearn_v2.corespect import ranking as ranking_old\n",
    "final_score=ranking_old.FlowRank(X,{'q':20,'r':20})"
   ],
   "id": "9adc76859731ebaa",
   "outputs": [],
   "execution_count": 69
  },
  {
   "metadata": {
    "ExecuteTime": {
     "end_time": "2025-10-01T06:00:55.064751Z",
     "start_time": "2025-10-01T06:00:55.060609Z"
    }
   },
   "cell_type": "code",
   "source": [
    "from cplearn_v3.corespect import ranking\n",
    "import importlib\n",
    "importlib.reload(ranking)"
   ],
   "id": "40ab80e4274f4a27",
   "outputs": [
    {
     "data": {
      "text/plain": [
       "<module 'cplearn_v3.corespect.ranking' from '/Users/chandrasekharmukherjee/PycharmProjects/cplearn/cplearn_v3/corespect/ranking.py'>"
      ]
     },
     "execution_count": 58,
     "metadata": {},
     "output_type": "execute_result"
    }
   ],
   "execution_count": 58
  },
  {
   "metadata": {
    "ExecuteTime": {
     "end_time": "2025-10-01T05:59:43.997926Z",
     "start_time": "2025-10-01T05:59:43.016902Z"
    }
   },
   "cell_type": "code",
   "source": "final_score_new_1=ranking.FlowRank(X,20)",
   "id": "94e7db86bd430ea0",
   "outputs": [
    {
     "name": "stdout",
     "output_type": "stream",
     "text": [
      "(145704, 20)\n",
      "numba cp1\n",
      "numba cp2\n"
     ]
    }
   ],
   "execution_count": 53
  },
  {
   "metadata": {
    "ExecuteTime": {
     "end_time": "2025-10-01T06:03:09.036404Z",
     "start_time": "2025-10-01T06:03:05.283931Z"
    }
   },
   "cell_type": "code",
   "source": "knn_list,_=get_kNN(X,20)",
   "id": "4b80b19cb1fe329a",
   "outputs": [],
   "execution_count": 63
  },
  {
   "metadata": {
    "ExecuteTime": {
     "end_time": "2025-10-01T06:03:45.574980Z",
     "start_time": "2025-10-01T06:03:45.573196Z"
    }
   },
   "cell_type": "code",
   "source": "print(type(knn_list))",
   "id": "d7c1946714adacb",
   "outputs": [
    {
     "name": "stdout",
     "output_type": "stream",
     "text": [
      "<class 'numpy.ndarray'>\n"
     ]
    }
   ],
   "execution_count": 64
  },
  {
   "metadata": {
    "ExecuteTime": {
     "end_time": "2025-10-01T06:03:55.070468Z",
     "start_time": "2025-10-01T06:03:47.026395Z"
    }
   },
   "cell_type": "code",
   "source": "final_score_new=ranking.FlowRank(knn_list,20)",
   "id": "b3707761b09056c6",
   "outputs": [
    {
     "name": "stdout",
     "output_type": "stream",
     "text": [
      "20\n",
      "(145704, 20)\n",
      "numba cp1\n",
      "numba cp2\n"
     ]
    }
   ],
   "execution_count": 65
  },
  {
   "metadata": {
    "ExecuteTime": {
     "end_time": "2025-10-01T06:04:12.286285Z",
     "start_time": "2025-10-01T06:04:12.210999Z"
    }
   },
   "cell_type": "code",
   "source": "print(max(final_score.values()),min(final_score))",
   "id": "ac06e1dc6ac81c43",
   "outputs": [
    {
     "name": "stdout",
     "output_type": "stream",
     "text": [
      "0.9999999593730639 0\n"
     ]
    }
   ],
   "execution_count": 68
  },
  {
   "metadata": {
    "ExecuteTime": {
     "end_time": "2025-10-01T04:49:01.761232Z",
     "start_time": "2025-10-01T04:49:01.758982Z"
    }
   },
   "cell_type": "code",
   "source": "print(type(final_score_new))",
   "id": "822ef43bf410bdc9",
   "outputs": [
    {
     "name": "stdout",
     "output_type": "stream",
     "text": [
      "<class 'dict'>\n"
     ]
    }
   ],
   "execution_count": 26
  },
  {
   "metadata": {
    "ExecuteTime": {
     "end_time": "2025-10-01T06:06:16.553706Z",
     "start_time": "2025-10-01T06:06:16.400397Z"
    }
   },
   "cell_type": "code",
   "source": [
    "sorted_nodes= sorted(final_score, key=lambda k: final_score[k], reverse=True)\n",
    "sorted_nodes_new= sorted(final_score, key=lambda k: final_score_new[k], reverse=True)"
   ],
   "id": "c03de6e97945e928",
   "outputs": [],
   "execution_count": 71
  },
  {
   "metadata": {
    "ExecuteTime": {
     "end_time": "2025-10-01T06:06:17.233946Z",
     "start_time": "2025-10-01T06:06:16.991068Z"
    }
   },
   "cell_type": "code",
   "source": [
    "for ell in range(1,10,1):\n",
    "    core_nodes=np.array(sorted_nodes[:int(ell*n/10)]).astype(int)\n",
    "    core_nodes_new=np.array(sorted_nodes_new[:int(ell*n/10)]).astype(int)\n",
    "\n",
    "    print(f\"{(len(set(core_nodes).intersection(set(core_nodes_new))))/len(core_nodes):.3f}\")\n"
   ],
   "id": "9d0e7a4bd439f74c",
   "outputs": [
    {
     "name": "stdout",
     "output_type": "stream",
     "text": [
      "0.993\n",
      "0.996\n",
      "0.997\n",
      "0.997\n",
      "0.998\n",
      "0.998\n",
      "0.999\n",
      "0.998\n",
      "0.999\n"
     ]
    }
   ],
   "execution_count": 72
  },
  {
   "metadata": {
    "ExecuteTime": {
     "end_time": "2025-10-01T05:48:09.770629Z",
     "start_time": "2025-10-01T05:48:09.766954Z"
    }
   },
   "cell_type": "code",
   "source": "print(type(knn_list))",
   "id": "22872380f1c020e4",
   "outputs": [
    {
     "name": "stdout",
     "output_type": "stream",
     "text": [
      "<class 'numpy.ndarray'>\n"
     ]
    }
   ],
   "execution_count": 31
  },
  {
   "metadata": {
    "ExecuteTime": {
     "end_time": "2025-10-01T07:44:08.811217Z",
     "start_time": "2025-10-01T07:44:07.975308Z"
    }
   },
   "cell_type": "code",
   "source": [
    "from cplearn_v3.utils.gen_utils import get_edge_list\n",
    "import igraph as ig\n",
    "\n",
    "e_list = get_edge_list(knn_list,X.shape[0])\n",
    "G = ig.Graph(directed=True)\n",
    "G.add_vertices(X.shape[0])\n",
    "G.add_edges(e_list)\n",
    "G.vs[\"id\"] = list(range(G.vcount()))"
   ],
   "id": "10e8aad791fd7d22",
   "outputs": [],
   "execution_count": 79
  },
  {
   "metadata": {
    "ExecuteTime": {
     "end_time": "2025-10-01T07:49:19.838430Z",
     "start_time": "2025-10-01T07:49:12.123334Z"
    }
   },
   "cell_type": "code",
   "source": [
    "from cplearn_v3.corespect import layer_extraction\n",
    "import importlib\n",
    "importlib.reload(layer_extraction_v1)\n",
    "\n",
    "core_nodes_new=np.array(sorted_nodes_new[:int(0.5*n)]).astype(int)\n",
    "labels=layer_extraction_v1.cluster_subset(G,core_nodes_new)\n",
    "\n",
    "\n"
   ],
   "id": "9ddbfebfb52c9fc3",
   "outputs": [
    {
     "name": "stdout",
     "output_type": "stream",
     "text": [
      "Step 1\n",
      "Updated\n"
     ]
    }
   ],
   "execution_count": 84
  },
  {
   "metadata": {},
   "cell_type": "code",
   "outputs": [],
   "execution_count": null,
   "source": "",
   "id": "ba6b5c1135f78099"
  }
 ],
 "metadata": {
  "kernelspec": {
   "display_name": "Python 3",
   "language": "python",
   "name": "python3"
  },
  "language_info": {
   "codemirror_mode": {
    "name": "ipython",
    "version": 2
   },
   "file_extension": ".py",
   "mimetype": "text/x-python",
   "name": "python",
   "nbconvert_exporter": "python",
   "pygments_lexer": "ipython2",
   "version": "2.7.6"
  }
 },
 "nbformat": 4,
 "nbformat_minor": 5
}
