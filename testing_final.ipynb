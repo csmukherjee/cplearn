{
 "cells": [
  {
   "metadata": {},
   "cell_type": "code",
   "source": [
    "import numpy as np\n",
    "import plotly.express as px\n",
    "def plot_embedding(embedding, labels=None):\n",
    "    \"\"\"\n",
    "    Plot a 2D embedding with optional labels for coloring.\n",
    "\n",
    "    Args:\n",
    "        embedding (ndarray): shape (n_samples, 2)\n",
    "        labels (array-like, optional): labels for coloring points\n",
    "    \"\"\"\n",
    "    if labels is None:\n",
    "        labels = np.zeros(embedding.shape[0])  # default: all same\n",
    "\n",
    "\n",
    "    fig = px.scatter(\n",
    "        x=embedding[:, 0],\n",
    "        y=embedding[:, 1],\n",
    "        color=labels.astype(str),  # convert to string for discrete legend\n",
    "        title=\"2D Embedding Visualization\",\n",
    "        labels={\"x\": \"Dim 1\", \"y\": \"Dim 2\", \"color\": \"Label\"}\n",
    "    )\n",
    "\n",
    "\n",
    "    fig.update_layout(\n",
    "        width=1000,\n",
    "        height=800,\n",
    "        title=\"Custom size Plotly figure\"\n",
    "    )\n",
    "\n",
    "\n",
    "    fig.show()\n",
    "\n"
   ],
   "id": "aa6b479d931f70fe",
   "outputs": [],
   "execution_count": null
  },
  {
   "metadata": {},
   "cell_type": "code",
   "source": [
    "import scanpy as sc\n",
    "nk_path='/Users/chandrasekharmukherjee/PycharmProjects/Personal/cplearn_biotest/NK_cells.h5ad'\n",
    "adata = sc.read_h5ad(nk_path)\n",
    "\n",
    "print(\"done\")\n",
    "\n",
    "X=adata.obsm['X_HARMONY']\n",
    "label=adata.obs['ident'].to_numpy()\n",
    "from scipy.sparse import issparse\n",
    "X_umap=adata.obsm['X_UMAP']\n",
    "\n",
    "X_cg = adata.X.toarray() if issparse(adata.X) else adata.X\n",
    "gene_names = adata.var_names.values\n",
    "\n",
    "print(X_cg.shape,gene_names.shape,gene_names[0:5])"
   ],
   "id": "6c32d113c2722eef",
   "outputs": [],
   "execution_count": null
  },
  {
   "metadata": {
    "ExecuteTime": {
     "end_time": "2025-10-19T02:31:36.930481Z",
     "start_time": "2025-10-19T02:31:33.101299Z"
    }
   },
   "cell_type": "code",
   "source": [
    "f_path='/Users/chandrasekharmukherjee/Data/scRNA_IBD/'\n",
    "d_path=['bcells_final.h5ad',\n",
    "'cd4tcells_final.h5ad',\n",
    "'cd8tcells_final.h5ad',\n",
    "'epicolonic_final.h5ad',\n",
    "'fibperi_final.h5ad',\n",
    "'ilc_final.h5ad',\n",
    "'ilealepi_final.h5ad',\n",
    "'myeloid_final.h5ad',\n",
    "'plasmacells_final.h5ad']\n",
    "\n",
    "subset_number=1\n",
    "\n",
    "import scanpy as sc\n",
    "adata=sc.read_h5ad(f_path+d_path[subset_number])\n",
    "X=adata.obsm['X_harmony']\n",
    "n=X.shape[0]\n",
    "print(n)\n",
    "label=adata.obs['final_analysis'].to_numpy()\n",
    "pt_label=adata.obs['Patient'].to_numpy()\n",
    "\n",
    "from scipy.sparse import issparse\n",
    "X_cg = adata.X.toarray() if issparse(adata.X) else adata.X\n",
    "gene_names = adata.var_names.values\n",
    "\n",
    "print(X_cg.shape,gene_names.shape)\n"
   ],
   "id": "e42fe5542d002d21",
   "outputs": [
    {
     "name": "stdout",
     "output_type": "stream",
     "text": [
      "145704\n",
      "(145704, 33075) (33075,)\n"
     ]
    }
   ],
   "execution_count": 1
  },
  {
   "metadata": {},
   "cell_type": "code",
   "source": [
    "import data_call\n",
    "import numpy as np\n",
    "d_name='Muraro'\n",
    "X,label=data_call.get_dataset(d_name, mode='PCA')"
   ],
   "id": "628618223fe81597",
   "outputs": [],
   "execution_count": null
  },
  {
   "metadata": {
    "ExecuteTime": {
     "end_time": "2025-10-19T02:31:42.333145Z",
     "start_time": "2025-10-19T02:31:42.201388Z"
    }
   },
   "cell_type": "code",
   "source": [
    "from cplearn_v4.corespect import CorespectModel\n",
    "from cplearn_v4.corespect.config import CoreSpectConfig"
   ],
   "id": "6c2b1afc0f524f24",
   "outputs": [],
   "execution_count": 2
  },
  {
   "metadata": {},
   "cell_type": "markdown",
   "source": "### Load dataset X as you would have in the pre-clustering step. Type should be np.ndarray()",
   "id": "dd7674e2aa248e58"
  },
  {
   "metadata": {
    "ExecuteTime": {
     "end_time": "2025-10-19T02:31:42.729663Z",
     "start_time": "2025-10-19T02:31:42.727062Z"
    }
   },
   "cell_type": "code",
   "source": [
    "#Initial parameters.\n",
    "cfg = CoreSpectConfig(\n",
    "    q=20, #Neighborhood parameter for initial K-NN graph design\n",
    "    r=10, #Neighborhood parameter for ascending random walk of FlowRank\n",
    "    core_frac=0.2, #Fraction of points to be selected in the core. Can be auto-selected with auto_select_core_frac:True\n",
    "    densify=False, #Densification of different induced subgraph. Choose 'rw' or 'k-nn' to try different methods.\n",
    "    granularity=2, #Resolution of Leiden influencing layer extraction procedure.\n",
    "    resolution=2.25 #Resolution for clustering core.\n",
    ").configure()\n",
    "\n",
    "#Fine_grained (bool): Allows finding small cores from the initially obtained stable_core.\n",
    "#Propagate (bool): Cluster non-core points with a normalized-laplacian-based core-label propagation.\n",
    "\n",
    "#Run Corespect.\n",
    "model = CorespectModel(X, **cfg.unpack())#.run(fine_grained=True,propagate=True)"
   ],
   "id": "c36e6cf4fa95710c",
   "outputs": [],
   "execution_count": 3
  },
  {
   "metadata": {
    "ExecuteTime": {
     "end_time": "2025-10-19T02:31:43.066378Z",
     "start_time": "2025-10-19T02:31:43.063172Z"
    }
   },
   "cell_type": "code",
   "source": [
    "import numpy as np\n",
    "model.labels_=label\n",
    "model.count_mat=X_cg\n",
    "indices = np.arange(X.shape[0])\n",
    "splits = np.array_split(indices, 4)\n",
    "model.layers_=splits"
   ],
   "id": "6abf02f8ef0b52b7",
   "outputs": [],
   "execution_count": 4
  },
  {
   "metadata": {},
   "cell_type": "code",
   "source": [
    "import umap\n",
    "reducer=umap.UMAP()\n",
    "X_umap=reducer.fit_transform(X)"
   ],
   "id": "a1119b6082d15d1a",
   "outputs": [],
   "execution_count": null
  },
  {
   "metadata": {},
   "cell_type": "code",
   "source": [
    "from cplearn_v4.coremap import Coremap\n",
    "cmap=Coremap(model,global_umap=X_umap,fast_view=True,anchor_finding_mode='default')"
   ],
   "id": "84bfdf34b5f59ea",
   "outputs": [],
   "execution_count": null
  },
  {
   "metadata": {},
   "cell_type": "code",
   "source": [
    "from cplearn_v4.coremap.vizualizer import visualize_coremap\n",
    "fig=visualize_coremap(cmap,model.labels_, use_webgl=True)\n",
    "fig.show()"
   ],
   "id": "dfc1c15fc85fad72",
   "outputs": [],
   "execution_count": null
  },
  {
   "metadata": {},
   "cell_type": "code",
   "source": [
    "from cplearn_v4.coremap.vizualizer import visualize_coremap\n",
    "fig=visualize_coremap(cmap,label, use_webgl=True)\n",
    "fig.show()"
   ],
   "id": "fea30d257fe9139c",
   "outputs": [],
   "execution_count": null
  },
  {
   "metadata": {
    "ExecuteTime": {
     "end_time": "2025-10-19T02:38:23.099568Z",
     "start_time": "2025-10-19T02:37:37.287172Z"
    }
   },
   "cell_type": "code",
   "source": [
    "from cplearn_v4.biostat import DEAnalyzer,DEOptions\n",
    "\n",
    "model.count_mat=X_cg\n",
    "\n",
    "analyzer = DEAnalyzer(model,genes=gene_names,\n",
    "                       options=DEOptions(pseudocount=1.0, min_cells_per_group=5, min_detect_pct=0.05))\n",
    "\n"
   ],
   "id": "20483785226cbf2f",
   "outputs": [],
   "execution_count": 7
  },
  {
   "metadata": {},
   "cell_type": "code",
   "source": [
    "from collections import Counter\n",
    "print(Counter(model.labels_))"
   ],
   "id": "5c6bd9b2d3bced67",
   "outputs": [],
   "execution_count": null
  },
  {
   "metadata": {},
   "cell_type": "code",
   "source": "print(np.unique(model.labels_))",
   "id": "b31831b71c5f41ac",
   "outputs": [],
   "execution_count": null
  },
  {
   "metadata": {
    "ExecuteTime": {
     "end_time": "2025-10-19T02:35:00.508174Z",
     "start_time": "2025-10-19T02:34:12.791937Z"
    }
   },
   "cell_type": "code",
   "source": "df_default = analyzer.run_default(set1={'CD4 KLF2hi T'})",
   "id": "8b45684f053f7b3a",
   "outputs": [
    {
     "name": "stdout",
     "output_type": "stream",
     "text": [
      "Time for preparing indices: 0.069 seconds\n",
      "Starting DE test between two groups: {'mode': 'default', 'group_a': \"['CD4 KLF2hi T']\", 'group_b': \"['CD4 FOShi T', 'CD4 FOSpos T', 'CD4 HSPhi CD70pos Treg', 'CD4 HSPhi Treg', 'CD4 IKZF2hi TNFRSF18hi Treg', 'CD4 IKZF2hi TNFRSF18lo Treg', 'CD4 IKZF2lo LAG3pos Treg', 'CD4 KLF2int T', 'CD4 TNFSF13Bhi T', 'CD4 TWIST1 Treg', 'CD4 naive T', 'Th1', 'Th1 17 22', 'Th1 17 GZMAhi', 'Th1 17 GZMApos', 'Th17', 'Th22', 'Tph Tfh', 'Tph Tfh CXCL13pos']\"}\n",
      "Time for data slicing: 0.000 seconds\n",
      "Time for group extraction: 5.533 seconds\n",
      "Time for means computation: 4.125 seconds\n",
      "Time for pct computation: 7.546 seconds\n",
      "Pre-MWU filtering completed in: 17.20646595954895 seconds\n",
      "Time for pre-MWU filtering: 8.014 seconds\n",
      "Time for MWU loop: 12.586 seconds\n",
      "Time for rank-based U computation: 9.137 seconds\n",
      "Time for assembling DataFrame: 0.003 seconds\n",
      "Time for sorting results: 0.004 seconds\n"
     ]
    }
   ],
   "execution_count": 6
  },
  {
   "metadata": {},
   "cell_type": "code",
   "source": "analyzer.observe_de(df_default,n_rows=30)",
   "id": "d33c5b2d85357a99",
   "outputs": [],
   "execution_count": null
  },
  {
   "metadata": {},
   "cell_type": "code",
   "source": [
    "df_layerwise = analyzer.run_layerwise({6}, compute_per_layer=True,\n",
    "        compute_cumulative=True)"
   ],
   "id": "4b2b40d680a4287b",
   "outputs": [],
   "execution_count": null
  },
  {
   "metadata": {},
   "cell_type": "code",
   "source": "analyzer.observe_layerwise(df_layerwise,cumulative=True)",
   "id": "ba2b3cc8846a781a",
   "outputs": [],
   "execution_count": null
  },
  {
   "metadata": {},
   "cell_type": "code",
   "source": [
    "# Core vs periphery for cluster 0\n",
    "df_cvp = analyzer.run_core_vs_periphery(cluster=6, layer_order=[1, 2, 3,4,5,6])\n",
    "analyzer.observe_core_vs_periphery(df_cvp)#,genes=[\"GNLY\"])"
   ],
   "id": "76ba20f84998c0ce",
   "outputs": [],
   "execution_count": null
  },
  {
   "metadata": {},
   "cell_type": "code",
   "source": "",
   "id": "6bd33fb2fd9b4c84",
   "outputs": [],
   "execution_count": null
  }
 ],
 "metadata": {
  "kernelspec": {
   "display_name": "Python 3",
   "language": "python",
   "name": "python3"
  },
  "language_info": {
   "codemirror_mode": {
    "name": "ipython",
    "version": 2
   },
   "file_extension": ".py",
   "mimetype": "text/x-python",
   "name": "python",
   "nbconvert_exporter": "python",
   "pygments_lexer": "ipython2",
   "version": "2.7.6"
  }
 },
 "nbformat": 4,
 "nbformat_minor": 5
}
