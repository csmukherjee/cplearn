{
 "cells": [
  {
   "metadata": {},
   "cell_type": "code",
   "source": [
    "import numpy as np\n",
    "import plotly.express as px\n",
    "def plot_embedding(embedding, labels=None):\n",
    "    \"\"\"\n",
    "    Plot a 2D embedding with optional labels for coloring.\n",
    "\n",
    "    Args:\n",
    "        embedding (ndarray): shape (n_samples, 2)\n",
    "        labels (array-like, optional): labels for coloring points\n",
    "    \"\"\"\n",
    "    if labels is None:\n",
    "        labels = np.zeros(embedding.shape[0])  # default: all same\n",
    "\n",
    "\n",
    "    fig = px.scatter(\n",
    "        x=embedding[:, 0],\n",
    "        y=embedding[:, 1],\n",
    "        color=labels.astype(str),  # convert to string for discrete legend\n",
    "        title=\"2D Embedding Visualization\",\n",
    "        labels={\"x\": \"Dim 1\", \"y\": \"Dim 2\", \"color\": \"Label\"}\n",
    "    )\n",
    "\n",
    "\n",
    "    fig.update_layout(\n",
    "        width=1000,\n",
    "        height=800,\n",
    "        title=\"Custom size Plotly figure\"\n",
    "    )\n",
    "\n",
    "\n",
    "    fig.show()\n",
    "\n"
   ],
   "id": "aa6b479d931f70fe",
   "outputs": [],
   "execution_count": null
  },
  {
   "cell_type": "code",
   "id": "initial_id",
   "metadata": {
    "collapsed": true
   },
   "source": [
    "import data_call\n",
    "import numpy as np\n",
    "d_name='Muraro'\n",
    "X,label=data_call.get_dataset(d_name, mode='PCA')"
   ],
   "outputs": [],
   "execution_count": null
  },
  {
   "metadata": {},
   "cell_type": "code",
   "source": [
    "import scanpy as sc\n",
    "nk_path='/Users/chandrasekharmukherjee/PycharmProjects/Personal/cplearn_biotest/NK_cells.h5ad'\n",
    "adata = sc.read_h5ad(nk_path)\n",
    "\n",
    "print(\"done\")\n",
    "\n",
    "X=adata.obsm['X_HARMONY']\n",
    "label=adata.obs['ident'].to_numpy()\n",
    "from scipy.sparse import issparse\n",
    "X_umap=adata.obsm['X_UMAP']\n",
    "\n",
    "X_cg = adata.X.toarray() if issparse(adata.X) else adata.X\n",
    "gene_names = adata.var_names.values\n",
    "\n",
    "print(X_cg.shape,gene_names.shape,gene_names[0:5])"
   ],
   "id": "6c32d113c2722eef",
   "outputs": [],
   "execution_count": null
  },
  {
   "metadata": {},
   "cell_type": "code",
   "source": [
    "f_path='/Users/chandrasekharmukherjee/Data/scRNA_IBD/'\n",
    "d_path=['bcells_final.h5ad',\n",
    "'cd4tcells_final.h5ad',\n",
    "'cd8tcells_final.h5ad',\n",
    "'epicolonic_final.h5ad',\n",
    "'fibperi_final.h5ad',\n",
    "'ilc_final.h5ad',\n",
    "'ilealepi_final.h5ad',\n",
    "'myeloid_final.h5ad',\n",
    "'plasmacells_final.h5ad']\n",
    "\n",
    "subset_number=1\n",
    "\n",
    "import scanpy as sc\n",
    "adata=sc.read_h5ad(f_path+d_path[subset_number])\n",
    "X=adata.obsm['X_harmony']\n",
    "n=X.shape[0]\n",
    "print(n)\n",
    "label=adata.obs['final_analysis'].to_numpy()\n",
    "pt_label=adata.obs['Patient'].to_numpy()"
   ],
   "id": "e42fe5542d002d21",
   "outputs": [],
   "execution_count": null
  },
  {
   "metadata": {},
   "cell_type": "code",
   "source": [
    "from cplearn_v4.corespect import CorespectModel\n",
    "from cplearn_v4.corespect.config import (\n",
    "    FlowRankConfig,\n",
    "    StableCoreConfig,\n",
    "FineGrainedConfig)\n",
    "\n",
    "# ,\n",
    "#     FineGrainedConfig,\n",
    "#     PropagationConfig\n",
    "# )"
   ],
   "id": "6ac32aaae0479a1a",
   "outputs": [],
   "execution_count": null
  },
  {
   "metadata": {},
   "cell_type": "code",
   "source": [
    "flow_cfg = FlowRankConfig(q=20, r=10)\n",
    "stable_cfg = StableCoreConfig(core_frac=0.2, resolution=1.5, ng_num=10, densification='rw')\n",
    "fine_cfg= FineGrainedConfig(fine_grain_densification='rw')\n",
    "\n",
    "model = CorespectModel(\n",
    "    X,\n",
    "    flowrank_cfg=flow_cfg,\n",
    "    stable_cfg=stable_cfg,\n",
    "    fine_cfg=fine_cfg\n",
    ")\n",
    "\n",
    "print(\"Running CoreSPECT\\n\")\n",
    "\n",
    "corespect_obj=model.run(fine_grained=True)"
   ],
   "id": "1e42bf323b75054a",
   "outputs": [],
   "execution_count": null
  },
  {
   "metadata": {},
   "cell_type": "code",
   "source": [
    "import umap\n",
    "reducer=umap.UMAP()\n",
    "X_umap=reducer.fit_transform(X)"
   ],
   "id": "6246073e1f9eb752",
   "outputs": [],
   "execution_count": null
  },
  {
   "metadata": {},
   "cell_type": "code",
   "source": "plot_embedding(X_umap,label)",
   "id": "3f91749f1d943568",
   "outputs": [],
   "execution_count": null
  },
  {
   "metadata": {},
   "cell_type": "code",
   "source": "print([len(layer) for layer in corespect_obj.layers_])",
   "id": "84a71fd121f454d0",
   "outputs": [],
   "execution_count": null
  },
  {
   "metadata": {},
   "cell_type": "code",
   "source": [
    "print(len(corespect_obj.layers_[0]))\n",
    "plot_embedding(X_umap[corespect_obj.layers_[0]],label[corespect_obj.layers_[0]])\n",
    "plot_embedding(X_umap[corespect_obj.layers_[1]],label[corespect_obj.layers_[1]])"
   ],
   "id": "be82f877331e3367",
   "outputs": [],
   "execution_count": null
  },
  {
   "metadata": {},
   "cell_type": "code",
   "source": [
    "print(len(corespect_obj.layers_[0]))\n",
    "plot_embedding(X_umap[corespect_obj.layers_[0]],label[corespect_obj.layers_[0]])"
   ],
   "id": "6c545b27814ff688",
   "outputs": [],
   "execution_count": null
  },
  {
   "metadata": {},
   "cell_type": "code",
   "source": [
    "import umap\n",
    "reducer=umap.UMAP()\n",
    "X_umap_core=reducer.fit_transform(X[corespect_obj.layers_[0]])\n",
    "plot_embedding(X_umap_core,label[corespect_obj.layers_[0]])"
   ],
   "id": "82a4e7dc019ccec8",
   "outputs": [],
   "execution_count": null
  },
  {
   "metadata": {},
   "cell_type": "code",
   "source": "",
   "id": "a1c20aa1059dcf3a",
   "outputs": [],
   "execution_count": null
  }
 ],
 "metadata": {
  "kernelspec": {
   "display_name": "Python 3",
   "language": "python",
   "name": "python3"
  },
  "language_info": {
   "codemirror_mode": {
    "name": "ipython",
    "version": 2
   },
   "file_extension": ".py",
   "mimetype": "text/x-python",
   "name": "python",
   "nbconvert_exporter": "python",
   "pygments_lexer": "ipython2",
   "version": "2.7.6"
  }
 },
 "nbformat": 4,
 "nbformat_minor": 5
}
