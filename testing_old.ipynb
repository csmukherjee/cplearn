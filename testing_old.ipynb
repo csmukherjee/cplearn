{
 "cells": [
  {
   "metadata": {},
   "cell_type": "code",
   "source": [
    "import numpy as np\n",
    "import plotly.express as px\n",
    "def plot_embedding(embedding, labels=None):\n",
    "    \"\"\"\n",
    "    Plot a 2D embedding with optional labels for coloring.\n",
    "\n",
    "    Args:\n",
    "        embedding (ndarray): shape (n_samples, 2)\n",
    "        labels (array-like, optional): labels for coloring points\n",
    "    \"\"\"\n",
    "    if labels is None:\n",
    "        labels = np.zeros(embedding.shape[0])  # default: all same\n",
    "\n",
    "\n",
    "    fig = px.scatter(\n",
    "        x=embedding[:, 0],\n",
    "        y=embedding[:, 1],\n",
    "        color=labels.astype(str),  # convert to string for discrete legend\n",
    "        title=\"2D Embedding Visualization\",\n",
    "        labels={\"x\": \"Dim 1\", \"y\": \"Dim 2\", \"color\": \"Label\"}\n",
    "    )\n",
    "\n",
    "\n",
    "    fig.update_layout(\n",
    "        width=1000,\n",
    "        height=800,\n",
    "        title=\"Custom size Plotly figure\"\n",
    "    )\n",
    "\n",
    "\n",
    "    fig.show()\n",
    "\n"
   ],
   "id": "aa6b479d931f70fe",
   "outputs": [],
   "execution_count": null
  },
  {
   "cell_type": "code",
   "id": "initial_id",
   "metadata": {
    "collapsed": true
   },
   "source": [
    "from sklearn.manifold import TSNE\n",
    "\n",
    "def run_tsne(X_vec, perplexity=30, n_iter=1000, learning_rate=200, random_state=42):\n",
    "    \"\"\"\n",
    "    Run t-SNE on data X and return the 2D embedding.\n",
    "\n",
    "    Parameters\n",
    "    ----------\n",
    "    X : array-like, shape (n_samples, n_features)\n",
    "        Input data.\n",
    "    perplexity : float, optional\n",
    "        Balances local/global structure (default: 30).\n",
    "    n_iter : int, optional\n",
    "        Number of optimization iterations (default: 1000).\n",
    "    learning_rate : float, optional\n",
    "        Learning rate for t-SNE (default: 200).\n",
    "    random_state : int, optional\n",
    "        Random seed for reproducibility (default: 42).\n",
    "\n",
    "    Returns\n",
    "    -------\n",
    "    X_embedded : ndarray, shape (n_samples, 2)\n",
    "        The t-SNE embedding of the data.\n",
    "    \"\"\"\n",
    "    tsne = TSNE(\n",
    "        n_components=2,\n",
    "        perplexity=perplexity,\n",
    "        learning_rate=learning_rate,\n",
    "        n_iter=n_iter,\n",
    "        random_state=random_state\n",
    "    )\n",
    "    X_embedded = tsne.fit_transform(X_vec)\n",
    "    return X_embedded\n"
   ],
   "outputs": [],
   "execution_count": null
  },
  {
   "metadata": {},
   "cell_type": "code",
   "source": [
    "import scanpy as sc\n",
    "nk_path='/Users/chandrasekharmukherjee/PycharmProjects/Personal/cplearn_biotest/NK_cells.h5ad'\n",
    "adata = sc.read_h5ad(nk_path)\n",
    "\n",
    "print(\"done\")\n",
    "\n",
    "X=adata.obsm['X_HARMONY']\n",
    "label=adata.obs['ident'].to_numpy()\n",
    "from scipy.sparse import issparse\n",
    "X_umap=adata.obsm['X_UMAP']\n",
    "\n",
    "X_cg = adata.X.toarray() if issparse(adata.X) else adata.X\n",
    "gene_names = adata.var_names.values\n",
    "\n",
    "print(X_cg.shape,gene_names.shape,gene_names[0:5])"
   ],
   "id": "6c32d113c2722eef",
   "outputs": [],
   "execution_count": null
  },
  {
   "metadata": {},
   "cell_type": "code",
   "source": [
    "f_path='/Users/chandrasekharmukherjee/Data/scRNA_IBD/'\n",
    "d_path=['bcells_final.h5ad',\n",
    "'cd4tcells_final.h5ad',\n",
    "'cd8tcells_final.h5ad',\n",
    "'epicolonic_final.h5ad',\n",
    "'fibperi_final.h5ad',\n",
    "'ilc_final.h5ad',\n",
    "'ilealepi_final.h5ad',\n",
    "'myeloid_final.h5ad',\n",
    "'plasmacells_final.h5ad']\n",
    "\n",
    "subset_number=1\n",
    "\n",
    "import scanpy as sc\n",
    "adata=sc.read_h5ad(f_path+d_path[subset_number])\n",
    "X=adata.obsm['X_harmony']\n",
    "n=X.shape[0]\n",
    "print(n)\n",
    "label=adata.obs['final_analysis'].to_numpy()\n",
    "pt_label=adata.obs['Patient'].to_numpy()"
   ],
   "id": "e42fe5542d002d21",
   "outputs": [],
   "execution_count": null
  },
  {
   "metadata": {},
   "cell_type": "code",
   "source": [
    "import data_call\n",
    "import numpy as np\n",
    "d_name='Muraro'\n",
    "X,label=data_call.get_dataset(d_name, mode='PCA')"
   ],
   "id": "628618223fe81597",
   "outputs": [],
   "execution_count": null
  },
  {
   "metadata": {},
   "cell_type": "code",
   "source": [
    "from cplearn_v4.corespect import CorespectModel\n",
    "from cplearn_v4.corespect.config import (\n",
    "    FlowRankConfig,\n",
    "    StableCoreConfig,\n",
    "FineGrainedConfig,\n",
    "ClusterConfig,\n",
    "PropagationConfig\n",
    ")"
   ],
   "id": "6ac32aaae0479a1a",
   "outputs": [],
   "execution_count": null
  },
  {
   "metadata": {},
   "cell_type": "markdown",
   "source": [
    "Overall parameters:\n",
    "\n",
    "q,r for FlowRank.\n",
    "\n",
    "core_frac for stable_core and finegrained core. (There is also an auto-select option that needs more testing)\n",
    "\n",
    "Resolution for stable core and fine-grained core (for the filtration step).\n",
    "\n",
    "Densification stable core, then twice in fine-grained core. Also in clustering.\n",
    "\n",
    "Resolution in clustering.\n",
    "There is also auto select resolution step in clustering (Not sufficiently tested).\n",
    "\n",
    "Making all three resolution can have some unexpected effects. Can I auto-calibrate based on initial resolution?\n",
    "\n",
    "Then propagation has normalized, connectivity, momentum/default, alpha\n",
    "\n",
    "\n"
   ],
   "id": "2a7a3308abae636e"
  },
  {
   "metadata": {},
   "cell_type": "code",
   "source": [
    "flow_cfg = FlowRankConfig(q=20, r=10)\n",
    "stable_cfg = StableCoreConfig(core_frac=0.2, resolution=2 ,ng_num=10, densification=False)\n",
    "fine_cfg= FineGrainedConfig(fine_grain_densification=False,core_frac=0.2)\n",
    "cluster_cfg=ClusterConfig(resolution=2.25,auto_select_resolution=False,densification=False)\n",
    "prop_cfg=PropagationConfig(normalized=True,connectivity='sym',mode='momentum',alpha=0.2)\n",
    "model = CorespectModel(\n",
    "    X,\n",
    "    flowrank_cfg=flow_cfg,\n",
    "    stable_cfg=stable_cfg,\n",
    "    fine_core_cfg=fine_cfg,\n",
    "    cluster_cfg=cluster_cfg,\n",
    "    prop_cfg=prop_cfg\n",
    ").run(fine_grained=True)\n",
    "\n",
    "print(\"Running CoreSPECT\\n\")"
   ],
   "id": "1e42bf323b75054a",
   "outputs": [],
   "execution_count": null
  },
  {
   "metadata": {},
   "cell_type": "code",
   "source": [
    "from collections import Counter\n",
    "print(Counter(model.labels_))\n",
    "print(Counter(label))\n",
    "print([len(layer) for layer in model.layers_])\n",
    "print(X.shape[0])"
   ],
   "id": "288e0ea71e3462b9",
   "outputs": [],
   "execution_count": null
  },
  {
   "metadata": {},
   "cell_type": "code",
   "source": [
    "import umap\n",
    "reducer=umap.UMAP()\n",
    "X_umap=reducer.fit_transform(X)"
   ],
   "id": "a1119b6082d15d1a",
   "outputs": [],
   "execution_count": null
  },
  {
   "metadata": {},
   "cell_type": "code",
   "source": [
    "m_labels=model.labels_\n",
    "clusters=[[] for _ in range(len(set(m_labels)))]\n",
    "for i in model.layers_[0]:\n",
    "    clusters[m_labels[i]].append(i)"
   ],
   "id": "8f178910121f8d52",
   "outputs": [],
   "execution_count": null
  },
  {
   "metadata": {},
   "cell_type": "code",
   "source": [
    "from cplearn_v4.coremap import Coremap\n",
    "cmap=Coremap(model,global_umap=X_umap,fast_view=True,anchor_finding_mode='default')\n",
    "from cplearn_v4.coremap.vizualizer import visualize_coremap\n",
    "fig=visualize_coremap(cmap,model.labels_, use_webgl=True)\n",
    "fig.show()"
   ],
   "id": "84bfdf34b5f59ea",
   "outputs": [],
   "execution_count": null
  },
  {
   "metadata": {},
   "cell_type": "code",
   "source": [
    "import umap\n",
    "reducer=umap.UMAP()\n",
    "\n",
    "print(model.prob_matrix_.shape)\n",
    "\n",
    "X_fmap=reducer.fit_transform(model.prob_matrix_)\n",
    "X_tsne=run_tsne(model.prob_matrix_)\n"
   ],
   "id": "cfe655784598231b",
   "outputs": [],
   "execution_count": null
  },
  {
   "metadata": {},
   "cell_type": "code",
   "source": [
    "from cplearn_v4.coremap import Coremap\n",
    "cmap=Coremap(model,global_umap=X_tsne,fast_view=True,anchor_finding_mode='default')\n",
    "from cplearn_v4.coremap.vizualizer import visualize_coremap\n",
    "fig=visualize_coremap(cmap,model.labels_, use_webgl=True)\n",
    "fig.show()"
   ],
   "id": "35db1a41177f9e3c",
   "outputs": [],
   "execution_count": null
  },
  {
   "metadata": {},
   "cell_type": "code",
   "source": [
    "from cplearn_v4.coremap import Coremap\n",
    "cmap=Coremap(model,global_umap=X_fmap,fast_view=True,anchor_finding_mode='default')\n",
    "from cplearn_v4.coremap.vizualizer import visualize_coremap\n",
    "fig=visualize_coremap(cmap,model.labels_, use_webgl=True)\n",
    "fig.show()"
   ],
   "id": "4f743f0e52f760c0",
   "outputs": [],
   "execution_count": null
  },
  {
   "metadata": {},
   "cell_type": "code",
   "source": [
    "model.update_config(\"cluster\",resolution=1,auto_select_resolution=False,densification=False)\n",
    "model.cluster_core()\n",
    "model.update_config(\"propagation\",mode='momentum',connectivity='out',normalized=True,alpha=0.1)\n",
    "model.propagation_from_core()"
   ],
   "id": "a418f94f1a3b5638",
   "outputs": [],
   "execution_count": null
  },
  {
   "metadata": {},
   "cell_type": "code",
   "source": [
    "fig=visualize_coremap(cmap,label, use_webgl=True)\n",
    "fig.show()"
   ],
   "id": "8e0540a1b3ba312d",
   "outputs": [],
   "execution_count": null
  },
  {
   "metadata": {},
   "cell_type": "code",
   "source": [
    "import umap\n",
    "reducer=umap.UMAP()\n",
    "X_umap=reducer.fit_transform(X)"
   ],
   "id": "6246073e1f9eb752",
   "outputs": [],
   "execution_count": null
  },
  {
   "metadata": {},
   "cell_type": "code",
   "source": "plot_embedding(X_umap,label)",
   "id": "4c7bbe23cd55bfc1",
   "outputs": [],
   "execution_count": null
  },
  {
   "metadata": {},
   "cell_type": "code",
   "source": [
    "from cplearn_v4.coremap import Coremap\n",
    "cmap=Coremap(model,global_umap=X_umap,fast_view=False,anchor_finding_mode='default')\n",
    "from cplearn_v4.coremap.vizualizer import visualize_coremap\n",
    "fig=visualize_coremap(cmap,model.labels_, use_webgl=True)\n",
    "fig.show()"
   ],
   "id": "641f7231cc3a3d2a",
   "outputs": [],
   "execution_count": null
  },
  {
   "metadata": {},
   "cell_type": "code",
   "source": [
    "fig=visualize_coremap(cmap,label, use_webgl=True)\n",
    "fig.show()"
   ],
   "id": "3f91749f1d943568",
   "outputs": [],
   "execution_count": null
  },
  {
   "metadata": {},
   "cell_type": "code",
   "source": "fig.write_html('CD4+_cplearn_new_providedlabel.html')",
   "id": "5bc3bc12494b4d4d",
   "outputs": [],
   "execution_count": null
  },
  {
   "metadata": {},
   "cell_type": "code",
   "source": "print([len(layer) for layer in model.layers_])",
   "id": "84a71fd121f454d0",
   "outputs": [],
   "execution_count": null
  },
  {
   "metadata": {},
   "cell_type": "code",
   "source": [
    "print(len(model.layers_[0]))\n",
    "plot_embedding(X_umap[model.layers_[0]],label[model.layers_[0]])\n",
    "plot_embedding(X_umap[model.layers_[1]],label[model.layers_[1]])"
   ],
   "id": "be82f877331e3367",
   "outputs": [],
   "execution_count": null
  },
  {
   "metadata": {},
   "cell_type": "code",
   "source": "plot_embedding(X_umap[model.layers_[0]],model.labels_[model.layers_[0]])",
   "id": "3972c500d523be5c",
   "outputs": [],
   "execution_count": null
  },
  {
   "metadata": {},
   "cell_type": "code",
   "source": [
    "import umap\n",
    "reducer=umap.UMAP(n_neighbors=1000)\n",
    "X_umap_core=reducer.fit_transform(X[model.layers_[0]])\n"
   ],
   "id": "82a4e7dc019ccec8",
   "outputs": [],
   "execution_count": null
  },
  {
   "metadata": {},
   "cell_type": "code",
   "source": "",
   "id": "6b35780f6f8658bd",
   "outputs": [],
   "execution_count": null
  },
  {
   "metadata": {},
   "cell_type": "code",
   "source": "X_F=model.prob_matrix_",
   "id": "2a7b69c20012e050",
   "outputs": [],
   "execution_count": null
  },
  {
   "metadata": {},
   "cell_type": "code",
   "source": "X_tsne=run_tsne(X_F,perplexity=200,n_iter=500,learning_rate=200)",
   "id": "6a36c4bfb041988a",
   "outputs": [],
   "execution_count": null
  },
  {
   "metadata": {},
   "cell_type": "code",
   "source": [
    "for layer in model.layers_:\n",
    "    plot_embedding(X_tsne[layer],model.labels_[layer])"
   ],
   "id": "76f461ed1b6514b2",
   "outputs": [],
   "execution_count": null
  },
  {
   "metadata": {},
   "cell_type": "code",
   "source": "plot_embedding(X_tsne,model.labels_)",
   "id": "a1c20aa1059dcf3a",
   "outputs": [],
   "execution_count": null
  },
  {
   "metadata": {},
   "cell_type": "code",
   "source": "",
   "id": "dfc1c15fc85fad72",
   "outputs": [],
   "execution_count": null
  }
 ],
 "metadata": {
  "kernelspec": {
   "display_name": "Python 3",
   "language": "python",
   "name": "python3"
  },
  "language_info": {
   "codemirror_mode": {
    "name": "ipython",
    "version": 2
   },
   "file_extension": ".py",
   "mimetype": "text/x-python",
   "name": "python",
   "nbconvert_exporter": "python",
   "pygments_lexer": "ipython2",
   "version": "2.7.6"
  }
 },
 "nbformat": 4,
 "nbformat_minor": 5
}
