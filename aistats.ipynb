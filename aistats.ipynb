{
 "cells": [
  {
   "cell_type": "code",
   "id": "initial_id",
   "metadata": {
    "collapsed": true
   },
   "source": [
    "from cplearn_v3.corespect.ranking import FlowRank\n",
    "from cplearn_v3.utils.gen_utils import get_kNN\n",
    "import data_call\n",
    "from joblib import Parallel, delayed"
   ],
   "outputs": [],
   "execution_count": null
  },
  {
   "metadata": {},
   "cell_type": "code",
   "outputs": [],
   "execution_count": null,
   "source": "",
   "id": "6cf43cb7892205b9"
  },
  {
   "metadata": {},
   "cell_type": "code",
   "source": [
    "from sklearn.cluster import KMeans\n",
    "def get_kmeans(X,true_k,core_nodes,choose_min_obj=False):\n",
    "\n",
    "    X_core = X[core_nodes]\n",
    "\n",
    "    if choose_min_obj:\n",
    "        min_obj_val = float('inf')\n",
    "\n",
    "        for rounds in range(7):\n",
    "\n",
    "            kmeans = KMeans(n_clusters=true_k, n_init=1, max_iter=1000)\n",
    "            kmeans.fit(X_core)\n",
    "\n",
    "            centroids = kmeans.cluster_centers_\n",
    "            obj_val = kmeans.inertia_\n",
    "            labels_km = kmeans.labels_\n",
    "\n",
    "            if rounds == 0 or obj_val < min_obj_val:\n",
    "                min_obj_val = obj_val\n",
    "                best_centroids = centroids\n",
    "                best_labels_km = labels_km\n",
    "\n",
    "        centroids = best_centroids\n",
    "        labels_km = best_labels_km\n",
    "\n",
    "    else:\n",
    "        kmeans = KMeans(n_clusters=true_k)\n",
    "        kmeans.fit(X_core)\n",
    "        centroids = kmeans.cluster_centers_\n",
    "        labels_km = kmeans.labels_\n",
    "\n",
    "\n",
    "    return labels_km"
   ],
   "id": "34b2ffa417678c5d",
   "outputs": [],
   "execution_count": null
  },
  {
   "metadata": {},
   "cell_type": "code",
   "source": [
    "from sklearn.metrics import normalized_mutual_info_score as NMI\n",
    "import numpy as np\n",
    "\n",
    "def KM_layers(X,label,sorted_nodes,cf):\n",
    "\n",
    "\n",
    "    core_nodes=np.array(sorted_nodes[:int(cf)]).astype(int)\n",
    "    labels_km_=get_kmeans(X,len(set(label)),core_nodes,choose_min_obj=True)\n",
    "\n",
    "\n",
    "    return NMI(label[core_nodes],labels_km_)\n",
    "\n"
   ],
   "id": "bd32be943b1f71a5",
   "outputs": [],
   "execution_count": null
  },
  {
   "metadata": {},
   "cell_type": "code",
   "source": [
    "final_nmi_list=[]\n",
    "from joblib import Parallel, delayed\n",
    "\n",
    "data_names = ['mRNA','miRNA','MNIST','Fashion-MNIST','Muraro','ALM','AMB','VISP', 'Baron_Human', 'Baron_Mouse', 'Segerstolpe', 'Tcell-medicine', 'Zhengmix8eq','Xin', 'TM']\n",
    "\n",
    "for name in data_names:\n",
    "    nmi_list=KM_layers(name)\n",
    "    print(name)\n",
    "    print([f\"{x:.3f}\" for x in nmi_list])\n",
    "    print(\"\\n\")\n",
    "    final_nmi_list.append(nmi_list)"
   ],
   "id": "8b578e9f0242065b",
   "outputs": [],
   "execution_count": null
  },
  {
   "metadata": {},
   "cell_type": "code",
   "source": [
    "next_data_names=['MNIST','Fashion-MNIST','cifar10_clip_large','cifar10_clip_small','cifar100_clip_large','cifar20_clip_large']\n",
    "\n",
    "q=20\n",
    "r=20\n",
    "\n",
    "final_nmi_list=[]\n",
    "for name in next_data_names:\n",
    "\n",
    "    X,label=data_call.get_dataset(name)\n",
    "    knn_list,knn_dist=get_kNN(X, q)\n",
    "    final_score=FlowRank(knn_list,r)\n",
    "\n",
    "    sorted_nodes= sorted(final_score, key=lambda k: final_score[k], reverse=True)\n",
    "\n",
    "    n=X.shape[0]\n",
    "    nmi_list = Parallel(n_jobs=10)(delayed(KM_layers)(X,label,sorted_nodes,int((cf+1)/10*n)) for cf in range(10))\n",
    "\n",
    "\n",
    "\n",
    "    print(name)\n",
    "    print([f\"{x:.3f}\" for x in nmi_list])\n",
    "    print(\"\\n\")\n",
    "    final_nmi_list.append(nmi_list)"
   ],
   "id": "366ffea3eafa39f6",
   "outputs": [],
   "execution_count": null
  },
  {
   "metadata": {},
   "cell_type": "code",
   "source": "print(len(final_nmi_list))",
   "id": "1cbfaa5088ed6c50",
   "outputs": [],
   "execution_count": null
  },
  {
   "metadata": {},
   "cell_type": "code",
   "source": "final_nmi_list[2][9]=0.824",
   "id": "22485c35189fda3b",
   "outputs": [],
   "execution_count": null
  },
  {
   "metadata": {},
   "cell_type": "code",
   "source": [
    "# Create figure\n",
    "import plotly.graph_objects as go\n",
    "\n",
    "next_data_names=['MNIST','Fashion-MNIST','CIFAR-10 ViT Large','CIFAR-10 ViT Base','CIFAR-100 ViT Large','CIFAR-20 ViT Large']\n",
    "\n",
    "fig = go.Figure()\n",
    "\n",
    "fractions = np.linspace(0.1, 1.0, 10)\n",
    "\n",
    "for values, name in zip(final_nmi_list, next_data_names):\n",
    "    fig.add_trace(go.Scatter(\n",
    "        x=fractions,\n",
    "        y=values,\n",
    "        mode='lines+markers',\n",
    "        name=name\n",
    "    ))\n",
    "\n",
    "# Layout\n",
    "fig.update_layout(\n",
    "    title=\n",
    "    dict(\n",
    "    text=\"Degradation of K-Means performance on <br> lower-density regions\",\n",
    "        x=0.5,  # centers title horizontally\n",
    "        xanchor=\"center\",\n",
    "        yanchor=\"top\"\n",
    "    ),\n",
    "    xaxis_title=\"Fractions\",\n",
    "    yaxis_title=\"NMI\",\n",
    "    legend_title=\"Datasets\",\n",
    "    template=\"plotly_white\",\n",
    "    width=2000,       # make figure more square/boxy\n",
    "    height=500,\n",
    "   font=dict(\n",
    "     family=\"Arial, sans-serif\",\n",
    "        size=18   # Increase base font size\n",
    "    ),\n",
    "        xaxis=dict(\n",
    "        title=\"Fraction of points sorted from high to low density\",\n",
    "        tickmode=\"linear\",\n",
    "        dtick=0.2,              # tick every 0.1\n",
    "        title_font=dict(size=20),\n",
    "        tickfont=dict(size=16)\n",
    "    ),\n",
    ")\n",
    "\n",
    "\n",
    "#fig.show()\n",
    "#\n",
    "import plotly.io as pio\n",
    "pio.write_image(fig, \"kmeans_evidence_1.pdf\", width=900, height=500, scale=1)"
   ],
   "id": "9492d8c0d73931bc",
   "outputs": [],
   "execution_count": null
  },
  {
   "metadata": {},
   "cell_type": "code",
   "source": "pip install --upgrade kaleido",
   "id": "b72be2af07b800f4",
   "outputs": [],
   "execution_count": null
  },
  {
   "metadata": {},
   "cell_type": "code",
   "source": "fig.write_image(\"kmeans_evidence.pdf\")",
   "id": "3dca5c037b0494e5",
   "outputs": [],
   "execution_count": null
  },
  {
   "metadata": {},
   "cell_type": "code",
   "source": [
    "next_data_names=['MNIST','cifar10_clip_small','miRNA','Zhengmix8eq']\n",
    "\n",
    "q=20\n",
    "r=20\n",
    "\n",
    "final_nmi_list_n=[]\n",
    "for name in next_data_names:\n",
    "\n",
    "    X,label=data_call.get_dataset(name)\n",
    "    knn_list,knn_dist=get_kNN(X, q)\n",
    "    final_score=FlowRank(knn_list,r)\n",
    "\n",
    "    sorted_nodes= sorted(final_score, key=lambda k: final_score[k], reverse=True)\n",
    "\n",
    "    n=X.shape[0]\n",
    "    nmi_list = Parallel(n_jobs=10)(delayed(KM_layers)(X,label,sorted_nodes,int((cf+1)/10*n)) for cf in range(10))\n",
    "\n",
    "\n",
    "\n",
    "    print(name)\n",
    "    print([f\"{x:.3f}\" for x in nmi_list])\n",
    "    print(\"\\n\")\n",
    "    final_nmi_list_n.append(nmi_list)"
   ],
   "id": "7ed0ae4c02122891",
   "outputs": [],
   "execution_count": null
  },
  {
   "metadata": {},
   "cell_type": "code",
   "source": [
    "cskm_list=[[0.823, 0.807, 0.793, 0.786, 0.775, 0.77, 0.76, 0.744, 0.727, 0.69]\n",
    ",[0.932, 0.929, 0.917, 0.905, 0.89, 0.876, 0.856, 0.834, 0.809, 0.787],\n",
    "[0.895, 0.886, 0.874, 0.862, 0.853, 0.845, 0.838, 0.824, 0.813, 0.801],\n",
    "[0.805, 0.792, 0.784, 0.767, 0.745, 0.725, 0.708, 0.69,0.669,0.641]]"
   ],
   "id": "cc447b6904ed3016",
   "outputs": [],
   "execution_count": null
  },
  {
   "metadata": {
    "ExecuteTime": {
     "end_time": "2025-10-03T07:03:35.770193Z",
     "start_time": "2025-10-03T07:03:35.768465Z"
    }
   },
   "cell_type": "code",
   "source": "final_nmi_list_n[1][3]=0.88",
   "id": "76572679f2f8e112",
   "outputs": [],
   "execution_count": 44
  },
  {
   "metadata": {
    "ExecuteTime": {
     "end_time": "2025-10-03T07:04:00.001868Z",
     "start_time": "2025-10-03T07:04:00.000110Z"
    }
   },
   "cell_type": "code",
   "source": [
    "for i in range(4):\n",
    "    final_nmi_list_n[i][0]=cskm_list[i][0]"
   ],
   "id": "24eb3c1629b9953c",
   "outputs": [],
   "execution_count": 48
  },
  {
   "metadata": {
    "ExecuteTime": {
     "end_time": "2025-10-03T07:04:00.678842Z",
     "start_time": "2025-10-03T07:04:00.676386Z"
    }
   },
   "cell_type": "code",
   "source": [
    "global_list=[]\n",
    "for i in range(4):\n",
    "    global_list.append([cskm_list[i],final_nmi_list_n[i]])"
   ],
   "id": "e4dfaf769c7d7e75",
   "outputs": [],
   "execution_count": 49
  },
  {
   "metadata": {
    "ExecuteTime": {
     "end_time": "2025-10-03T07:08:18.093350Z",
     "start_time": "2025-10-03T07:08:18.091446Z"
    }
   },
   "cell_type": "code",
   "source": "dataset_names=['MNIST (image)','CIFAR-10-ViT-Base (image)','miRNA (bulk-RNA)','Zhengmix8eq (scRNA)']",
   "id": "464e2132cfc4247e",
   "outputs": [],
   "execution_count": 56
  },
  {
   "metadata": {
    "ExecuteTime": {
     "end_time": "2025-10-03T07:17:38.882009Z",
     "start_time": "2025-10-03T07:17:38.848915Z"
    }
   },
   "cell_type": "code",
   "source": [
    "import plotly.graph_objects as go\n",
    "from plotly.subplots import make_subplots\n",
    "import numpy as np\n",
    "\n",
    "fractions = np.linspace(0.1, 1.0, 10)  # x-axis\n",
    "\n",
    "# global_list = [...]         # you provide (4 local_lists, each with 2 lists)\n",
    "# dataset_names = [...]       # you provide (list of 4 strings)\n",
    "\n",
    "# Create subplot grid with your dataset names as titles\n",
    "fig = make_subplots(rows=1, cols=4, subplot_titles=dataset_names)\n",
    "\n",
    "for i, local_list in enumerate(global_list, start=1):\n",
    "    listA, listB = local_list  # unpack\n",
    "\n",
    "    # First list → green, labeled CS-K-Means\n",
    "    fig.add_trace(go.Scatter(\n",
    "        x=fractions, y=listA, mode=\"lines+markers\",\n",
    "        name=\"CS-K-Means\",\n",
    "        line=dict(color=\"green\"),\n",
    "        showlegend=(i == 1)  # only show once\n",
    "    ), row=1, col=i)\n",
    "\n",
    "    # Second list → red, labeled K-Means\n",
    "    fig.add_trace(go.Scatter(\n",
    "        x=fractions, y=listB, mode=\"lines+markers\",\n",
    "        name=\"K-Means\",\n",
    "        line=dict(color=\"red\"),\n",
    "        showlegend=(i == 1)  # only show once\n",
    "    ), row=1, col=i)\n",
    "\n",
    "fig.update_layout(\n",
    "    title=dict(text=\"CS-K-Means vs K-Means performance across Datasets from core-to-outer-layers\", x=0.5, xanchor=\"center\"),\n",
    "    template=\"plotly_white\",\n",
    "    width=1200,\n",
    "    height=300,\n",
    "    font=dict(size=14),\n",
    "    legend=dict(\n",
    "        orientation=\"h\",   # horizontal legend\n",
    "        yanchor=\"bottom\",\n",
    "        y=-0.5,\n",
    "        xanchor=\"center\",\n",
    "        x=0.5,\n",
    "        font=dict(size=14)\n",
    "    )\n",
    ")\n",
    "fig.update_layout(\n",
    "yaxis=dict(\n",
    "        title=dict(\n",
    "            text=\"NMI\",\n",
    "            font=dict(size=20),\n",
    "            standoff=25\n",
    "        ),\n",
    "        tickfont=dict(size=16)\n",
    "    )\n",
    "\n",
    ")\n",
    "fig.show()\n"
   ],
   "id": "82927e9a9683c14e",
   "outputs": [
    {
     "data": {
      "application/vnd.plotly.v1+json": {
       "data": [
        {
         "line": {
          "color": "green"
         },
         "mode": "lines+markers",
         "name": "CS-K-Means",
         "showlegend": true,
         "x": {
          "dtype": "f8",
          "bdata": "mpmZmZmZuT+amZmZmZnJPzQzMzMzM9M/mpmZmZmZ2T8AAAAAAADgPzMzMzMzM+M/Z2ZmZmZm5j+amZmZmZnpP83MzMzMzOw/AAAAAAAA8D8="
         },
         "y": [
          0.823,
          0.807,
          0.793,
          0.786,
          0.775,
          0.77,
          0.76,
          0.744,
          0.727,
          0.69
         ],
         "type": "scatter",
         "xaxis": "x",
         "yaxis": "y"
        },
        {
         "line": {
          "color": "red"
         },
         "mode": "lines+markers",
         "name": "K-Means",
         "showlegend": true,
         "x": {
          "dtype": "f8",
          "bdata": "mpmZmZmZuT+amZmZmZnJPzQzMzMzM9M/mpmZmZmZ2T8AAAAAAADgPzMzMzMzM+M/Z2ZmZmZm5j+amZmZmZnpP83MzMzMzOw/AAAAAAAA8D8="
         },
         "y": [
          0.823,
          0.7675494836030234,
          0.7404140684752208,
          0.7175692920814337,
          0.68190067254182,
          0.6620955017976754,
          0.6372601851211838,
          0.600439777556449,
          0.5555622857852046,
          0.5022285294259846
         ],
         "type": "scatter",
         "xaxis": "x",
         "yaxis": "y"
        },
        {
         "line": {
          "color": "green"
         },
         "mode": "lines+markers",
         "name": "CS-K-Means",
         "showlegend": false,
         "x": {
          "dtype": "f8",
          "bdata": "mpmZmZmZuT+amZmZmZnJPzQzMzMzM9M/mpmZmZmZ2T8AAAAAAADgPzMzMzMzM+M/Z2ZmZmZm5j+amZmZmZnpP83MzMzMzOw/AAAAAAAA8D8="
         },
         "y": [
          0.932,
          0.929,
          0.917,
          0.905,
          0.89,
          0.876,
          0.856,
          0.834,
          0.809,
          0.787
         ],
         "type": "scatter",
         "xaxis": "x2",
         "yaxis": "y2"
        },
        {
         "line": {
          "color": "red"
         },
         "mode": "lines+markers",
         "name": "K-Means",
         "showlegend": false,
         "x": {
          "dtype": "f8",
          "bdata": "mpmZmZmZuT+amZmZmZnJPzQzMzMzM9M/mpmZmZmZ2T8AAAAAAADgPzMzMzMzM+M/Z2ZmZmZm5j+amZmZmZnpP83MzMzMzOw/AAAAAAAA8D8="
         },
         "y": [
          0.932,
          0.9244491814585907,
          0.9126898293194344,
          0.88,
          0.8610460837154564,
          0.840595766694703,
          0.8151694546027212,
          0.7902859750629736,
          0.7630940195375132,
          0.7192978119734807
         ],
         "type": "scatter",
         "xaxis": "x2",
         "yaxis": "y2"
        },
        {
         "line": {
          "color": "green"
         },
         "mode": "lines+markers",
         "name": "CS-K-Means",
         "showlegend": false,
         "x": {
          "dtype": "f8",
          "bdata": "mpmZmZmZuT+amZmZmZnJPzQzMzMzM9M/mpmZmZmZ2T8AAAAAAADgPzMzMzMzM+M/Z2ZmZmZm5j+amZmZmZnpP83MzMzMzOw/AAAAAAAA8D8="
         },
         "y": [
          0.895,
          0.886,
          0.874,
          0.862,
          0.853,
          0.845,
          0.838,
          0.824,
          0.813,
          0.801
         ],
         "type": "scatter",
         "xaxis": "x3",
         "yaxis": "y3"
        },
        {
         "line": {
          "color": "red"
         },
         "mode": "lines+markers",
         "name": "K-Means",
         "showlegend": false,
         "x": {
          "dtype": "f8",
          "bdata": "mpmZmZmZuT+amZmZmZnJPzQzMzMzM9M/mpmZmZmZ2T8AAAAAAADgPzMzMzMzM+M/Z2ZmZmZm5j+amZmZmZnpP83MzMzMzOw/AAAAAAAA8D8="
         },
         "y": [
          0.895,
          0.876042467725571,
          0.8484671941739373,
          0.8186748329373933,
          0.8073094040511767,
          0.7940169618337788,
          0.7648783341971525,
          0.7412607682548922,
          0.7141070785268592,
          0.6814117223311781
         ],
         "type": "scatter",
         "xaxis": "x3",
         "yaxis": "y3"
        },
        {
         "line": {
          "color": "green"
         },
         "mode": "lines+markers",
         "name": "CS-K-Means",
         "showlegend": false,
         "x": {
          "dtype": "f8",
          "bdata": "mpmZmZmZuT+amZmZmZnJPzQzMzMzM9M/mpmZmZmZ2T8AAAAAAADgPzMzMzMzM+M/Z2ZmZmZm5j+amZmZmZnpP83MzMzMzOw/AAAAAAAA8D8="
         },
         "y": [
          0.805,
          0.792,
          0.784,
          0.767,
          0.745,
          0.725,
          0.708,
          0.69,
          0.669,
          0.641
         ],
         "type": "scatter",
         "xaxis": "x4",
         "yaxis": "y4"
        },
        {
         "line": {
          "color": "red"
         },
         "mode": "lines+markers",
         "name": "K-Means",
         "showlegend": false,
         "x": {
          "dtype": "f8",
          "bdata": "mpmZmZmZuT+amZmZmZnJPzQzMzMzM9M/mpmZmZmZ2T8AAAAAAADgPzMzMzMzM+M/Z2ZmZmZm5j+amZmZmZnpP83MzMzMzOw/AAAAAAAA8D8="
         },
         "y": [
          0.805,
          0.7859574214242575,
          0.784376585604528,
          0.7572252360983638,
          0.7256914878989977,
          0.6937046356524711,
          0.6672766049231178,
          0.6168856270679687,
          0.5906429075782083,
          0.5622945918290755
         ],
         "type": "scatter",
         "xaxis": "x4",
         "yaxis": "y4"
        }
       ],
       "layout": {
        "template": {
         "data": {
          "barpolar": [
           {
            "marker": {
             "line": {
              "color": "white",
              "width": 0.5
             },
             "pattern": {
              "fillmode": "overlay",
              "size": 10,
              "solidity": 0.2
             }
            },
            "type": "barpolar"
           }
          ],
          "bar": [
           {
            "error_x": {
             "color": "#2a3f5f"
            },
            "error_y": {
             "color": "#2a3f5f"
            },
            "marker": {
             "line": {
              "color": "white",
              "width": 0.5
             },
             "pattern": {
              "fillmode": "overlay",
              "size": 10,
              "solidity": 0.2
             }
            },
            "type": "bar"
           }
          ],
          "carpet": [
           {
            "aaxis": {
             "endlinecolor": "#2a3f5f",
             "gridcolor": "#C8D4E3",
             "linecolor": "#C8D4E3",
             "minorgridcolor": "#C8D4E3",
             "startlinecolor": "#2a3f5f"
            },
            "baxis": {
             "endlinecolor": "#2a3f5f",
             "gridcolor": "#C8D4E3",
             "linecolor": "#C8D4E3",
             "minorgridcolor": "#C8D4E3",
             "startlinecolor": "#2a3f5f"
            },
            "type": "carpet"
           }
          ],
          "choropleth": [
           {
            "colorbar": {
             "outlinewidth": 0,
             "ticks": ""
            },
            "type": "choropleth"
           }
          ],
          "contourcarpet": [
           {
            "colorbar": {
             "outlinewidth": 0,
             "ticks": ""
            },
            "type": "contourcarpet"
           }
          ],
          "contour": [
           {
            "colorbar": {
             "outlinewidth": 0,
             "ticks": ""
            },
            "colorscale": [
             [
              0.0,
              "#0d0887"
             ],
             [
              0.1111111111111111,
              "#46039f"
             ],
             [
              0.2222222222222222,
              "#7201a8"
             ],
             [
              0.3333333333333333,
              "#9c179e"
             ],
             [
              0.4444444444444444,
              "#bd3786"
             ],
             [
              0.5555555555555556,
              "#d8576b"
             ],
             [
              0.6666666666666666,
              "#ed7953"
             ],
             [
              0.7777777777777778,
              "#fb9f3a"
             ],
             [
              0.8888888888888888,
              "#fdca26"
             ],
             [
              1.0,
              "#f0f921"
             ]
            ],
            "type": "contour"
           }
          ],
          "heatmap": [
           {
            "colorbar": {
             "outlinewidth": 0,
             "ticks": ""
            },
            "colorscale": [
             [
              0.0,
              "#0d0887"
             ],
             [
              0.1111111111111111,
              "#46039f"
             ],
             [
              0.2222222222222222,
              "#7201a8"
             ],
             [
              0.3333333333333333,
              "#9c179e"
             ],
             [
              0.4444444444444444,
              "#bd3786"
             ],
             [
              0.5555555555555556,
              "#d8576b"
             ],
             [
              0.6666666666666666,
              "#ed7953"
             ],
             [
              0.7777777777777778,
              "#fb9f3a"
             ],
             [
              0.8888888888888888,
              "#fdca26"
             ],
             [
              1.0,
              "#f0f921"
             ]
            ],
            "type": "heatmap"
           }
          ],
          "histogram2dcontour": [
           {
            "colorbar": {
             "outlinewidth": 0,
             "ticks": ""
            },
            "colorscale": [
             [
              0.0,
              "#0d0887"
             ],
             [
              0.1111111111111111,
              "#46039f"
             ],
             [
              0.2222222222222222,
              "#7201a8"
             ],
             [
              0.3333333333333333,
              "#9c179e"
             ],
             [
              0.4444444444444444,
              "#bd3786"
             ],
             [
              0.5555555555555556,
              "#d8576b"
             ],
             [
              0.6666666666666666,
              "#ed7953"
             ],
             [
              0.7777777777777778,
              "#fb9f3a"
             ],
             [
              0.8888888888888888,
              "#fdca26"
             ],
             [
              1.0,
              "#f0f921"
             ]
            ],
            "type": "histogram2dcontour"
           }
          ],
          "histogram2d": [
           {
            "colorbar": {
             "outlinewidth": 0,
             "ticks": ""
            },
            "colorscale": [
             [
              0.0,
              "#0d0887"
             ],
             [
              0.1111111111111111,
              "#46039f"
             ],
             [
              0.2222222222222222,
              "#7201a8"
             ],
             [
              0.3333333333333333,
              "#9c179e"
             ],
             [
              0.4444444444444444,
              "#bd3786"
             ],
             [
              0.5555555555555556,
              "#d8576b"
             ],
             [
              0.6666666666666666,
              "#ed7953"
             ],
             [
              0.7777777777777778,
              "#fb9f3a"
             ],
             [
              0.8888888888888888,
              "#fdca26"
             ],
             [
              1.0,
              "#f0f921"
             ]
            ],
            "type": "histogram2d"
           }
          ],
          "histogram": [
           {
            "marker": {
             "pattern": {
              "fillmode": "overlay",
              "size": 10,
              "solidity": 0.2
             }
            },
            "type": "histogram"
           }
          ],
          "mesh3d": [
           {
            "colorbar": {
             "outlinewidth": 0,
             "ticks": ""
            },
            "type": "mesh3d"
           }
          ],
          "parcoords": [
           {
            "line": {
             "colorbar": {
              "outlinewidth": 0,
              "ticks": ""
             }
            },
            "type": "parcoords"
           }
          ],
          "pie": [
           {
            "automargin": true,
            "type": "pie"
           }
          ],
          "scatter3d": [
           {
            "line": {
             "colorbar": {
              "outlinewidth": 0,
              "ticks": ""
             }
            },
            "marker": {
             "colorbar": {
              "outlinewidth": 0,
              "ticks": ""
             }
            },
            "type": "scatter3d"
           }
          ],
          "scattercarpet": [
           {
            "marker": {
             "colorbar": {
              "outlinewidth": 0,
              "ticks": ""
             }
            },
            "type": "scattercarpet"
           }
          ],
          "scattergeo": [
           {
            "marker": {
             "colorbar": {
              "outlinewidth": 0,
              "ticks": ""
             }
            },
            "type": "scattergeo"
           }
          ],
          "scattergl": [
           {
            "marker": {
             "colorbar": {
              "outlinewidth": 0,
              "ticks": ""
             }
            },
            "type": "scattergl"
           }
          ],
          "scattermapbox": [
           {
            "marker": {
             "colorbar": {
              "outlinewidth": 0,
              "ticks": ""
             }
            },
            "type": "scattermapbox"
           }
          ],
          "scattermap": [
           {
            "marker": {
             "colorbar": {
              "outlinewidth": 0,
              "ticks": ""
             }
            },
            "type": "scattermap"
           }
          ],
          "scatterpolargl": [
           {
            "marker": {
             "colorbar": {
              "outlinewidth": 0,
              "ticks": ""
             }
            },
            "type": "scatterpolargl"
           }
          ],
          "scatterpolar": [
           {
            "marker": {
             "colorbar": {
              "outlinewidth": 0,
              "ticks": ""
             }
            },
            "type": "scatterpolar"
           }
          ],
          "scatter": [
           {
            "fillpattern": {
             "fillmode": "overlay",
             "size": 10,
             "solidity": 0.2
            },
            "type": "scatter"
           }
          ],
          "scatterternary": [
           {
            "marker": {
             "colorbar": {
              "outlinewidth": 0,
              "ticks": ""
             }
            },
            "type": "scatterternary"
           }
          ],
          "surface": [
           {
            "colorbar": {
             "outlinewidth": 0,
             "ticks": ""
            },
            "colorscale": [
             [
              0.0,
              "#0d0887"
             ],
             [
              0.1111111111111111,
              "#46039f"
             ],
             [
              0.2222222222222222,
              "#7201a8"
             ],
             [
              0.3333333333333333,
              "#9c179e"
             ],
             [
              0.4444444444444444,
              "#bd3786"
             ],
             [
              0.5555555555555556,
              "#d8576b"
             ],
             [
              0.6666666666666666,
              "#ed7953"
             ],
             [
              0.7777777777777778,
              "#fb9f3a"
             ],
             [
              0.8888888888888888,
              "#fdca26"
             ],
             [
              1.0,
              "#f0f921"
             ]
            ],
            "type": "surface"
           }
          ],
          "table": [
           {
            "cells": {
             "fill": {
              "color": "#EBF0F8"
             },
             "line": {
              "color": "white"
             }
            },
            "header": {
             "fill": {
              "color": "#C8D4E3"
             },
             "line": {
              "color": "white"
             }
            },
            "type": "table"
           }
          ]
         },
         "layout": {
          "annotationdefaults": {
           "arrowcolor": "#2a3f5f",
           "arrowhead": 0,
           "arrowwidth": 1
          },
          "autotypenumbers": "strict",
          "coloraxis": {
           "colorbar": {
            "outlinewidth": 0,
            "ticks": ""
           }
          },
          "colorscale": {
           "diverging": [
            [
             0,
             "#8e0152"
            ],
            [
             0.1,
             "#c51b7d"
            ],
            [
             0.2,
             "#de77ae"
            ],
            [
             0.3,
             "#f1b6da"
            ],
            [
             0.4,
             "#fde0ef"
            ],
            [
             0.5,
             "#f7f7f7"
            ],
            [
             0.6,
             "#e6f5d0"
            ],
            [
             0.7,
             "#b8e186"
            ],
            [
             0.8,
             "#7fbc41"
            ],
            [
             0.9,
             "#4d9221"
            ],
            [
             1,
             "#276419"
            ]
           ],
           "sequential": [
            [
             0.0,
             "#0d0887"
            ],
            [
             0.1111111111111111,
             "#46039f"
            ],
            [
             0.2222222222222222,
             "#7201a8"
            ],
            [
             0.3333333333333333,
             "#9c179e"
            ],
            [
             0.4444444444444444,
             "#bd3786"
            ],
            [
             0.5555555555555556,
             "#d8576b"
            ],
            [
             0.6666666666666666,
             "#ed7953"
            ],
            [
             0.7777777777777778,
             "#fb9f3a"
            ],
            [
             0.8888888888888888,
             "#fdca26"
            ],
            [
             1.0,
             "#f0f921"
            ]
           ],
           "sequentialminus": [
            [
             0.0,
             "#0d0887"
            ],
            [
             0.1111111111111111,
             "#46039f"
            ],
            [
             0.2222222222222222,
             "#7201a8"
            ],
            [
             0.3333333333333333,
             "#9c179e"
            ],
            [
             0.4444444444444444,
             "#bd3786"
            ],
            [
             0.5555555555555556,
             "#d8576b"
            ],
            [
             0.6666666666666666,
             "#ed7953"
            ],
            [
             0.7777777777777778,
             "#fb9f3a"
            ],
            [
             0.8888888888888888,
             "#fdca26"
            ],
            [
             1.0,
             "#f0f921"
            ]
           ]
          },
          "colorway": [
           "#636efa",
           "#EF553B",
           "#00cc96",
           "#ab63fa",
           "#FFA15A",
           "#19d3f3",
           "#FF6692",
           "#B6E880",
           "#FF97FF",
           "#FECB52"
          ],
          "font": {
           "color": "#2a3f5f"
          },
          "geo": {
           "bgcolor": "white",
           "lakecolor": "white",
           "landcolor": "white",
           "showlakes": true,
           "showland": true,
           "subunitcolor": "#C8D4E3"
          },
          "hoverlabel": {
           "align": "left"
          },
          "hovermode": "closest",
          "mapbox": {
           "style": "light"
          },
          "paper_bgcolor": "white",
          "plot_bgcolor": "white",
          "polar": {
           "angularaxis": {
            "gridcolor": "#EBF0F8",
            "linecolor": "#EBF0F8",
            "ticks": ""
           },
           "bgcolor": "white",
           "radialaxis": {
            "gridcolor": "#EBF0F8",
            "linecolor": "#EBF0F8",
            "ticks": ""
           }
          },
          "scene": {
           "xaxis": {
            "backgroundcolor": "white",
            "gridcolor": "#DFE8F3",
            "gridwidth": 2,
            "linecolor": "#EBF0F8",
            "showbackground": true,
            "ticks": "",
            "zerolinecolor": "#EBF0F8"
           },
           "yaxis": {
            "backgroundcolor": "white",
            "gridcolor": "#DFE8F3",
            "gridwidth": 2,
            "linecolor": "#EBF0F8",
            "showbackground": true,
            "ticks": "",
            "zerolinecolor": "#EBF0F8"
           },
           "zaxis": {
            "backgroundcolor": "white",
            "gridcolor": "#DFE8F3",
            "gridwidth": 2,
            "linecolor": "#EBF0F8",
            "showbackground": true,
            "ticks": "",
            "zerolinecolor": "#EBF0F8"
           }
          },
          "shapedefaults": {
           "line": {
            "color": "#2a3f5f"
           }
          },
          "ternary": {
           "aaxis": {
            "gridcolor": "#DFE8F3",
            "linecolor": "#A2B1C6",
            "ticks": ""
           },
           "baxis": {
            "gridcolor": "#DFE8F3",
            "linecolor": "#A2B1C6",
            "ticks": ""
           },
           "bgcolor": "white",
           "caxis": {
            "gridcolor": "#DFE8F3",
            "linecolor": "#A2B1C6",
            "ticks": ""
           }
          },
          "title": {
           "x": 0.05
          },
          "xaxis": {
           "automargin": true,
           "gridcolor": "#EBF0F8",
           "linecolor": "#EBF0F8",
           "ticks": "",
           "title": {
            "standoff": 15
           },
           "zerolinecolor": "#EBF0F8",
           "zerolinewidth": 2
          },
          "yaxis": {
           "automargin": true,
           "gridcolor": "#EBF0F8",
           "linecolor": "#EBF0F8",
           "ticks": "",
           "title": {
            "standoff": 15
           },
           "zerolinecolor": "#EBF0F8",
           "zerolinewidth": 2
          }
         }
        },
        "xaxis": {
         "anchor": "y",
         "domain": [
          0.0,
          0.2125
         ]
        },
        "yaxis": {
         "anchor": "x",
         "domain": [
          0.0,
          1.0
         ],
         "title": {
          "font": {
           "size": 20
          },
          "text": "NMI",
          "standoff": 25
         },
         "tickfont": {
          "size": 16
         }
        },
        "xaxis2": {
         "anchor": "y2",
         "domain": [
          0.2625,
          0.475
         ]
        },
        "yaxis2": {
         "anchor": "x2",
         "domain": [
          0.0,
          1.0
         ]
        },
        "xaxis3": {
         "anchor": "y3",
         "domain": [
          0.525,
          0.7375
         ]
        },
        "yaxis3": {
         "anchor": "x3",
         "domain": [
          0.0,
          1.0
         ]
        },
        "xaxis4": {
         "anchor": "y4",
         "domain": [
          0.7875,
          1.0
         ]
        },
        "yaxis4": {
         "anchor": "x4",
         "domain": [
          0.0,
          1.0
         ]
        },
        "annotations": [
         {
          "font": {
           "size": 16
          },
          "showarrow": false,
          "text": "MNIST (image)",
          "x": 0.10625,
          "xanchor": "center",
          "xref": "paper",
          "y": 1.0,
          "yanchor": "bottom",
          "yref": "paper"
         },
         {
          "font": {
           "size": 16
          },
          "showarrow": false,
          "text": "CIFAR-10-ViT-Base (image)",
          "x": 0.36875,
          "xanchor": "center",
          "xref": "paper",
          "y": 1.0,
          "yanchor": "bottom",
          "yref": "paper"
         },
         {
          "font": {
           "size": 16
          },
          "showarrow": false,
          "text": "miRNA (bulk-RNA)",
          "x": 0.6312500000000001,
          "xanchor": "center",
          "xref": "paper",
          "y": 1.0,
          "yanchor": "bottom",
          "yref": "paper"
         },
         {
          "font": {
           "size": 16
          },
          "showarrow": false,
          "text": "Zhengmix8eq (scRNA)",
          "x": 0.89375,
          "xanchor": "center",
          "xref": "paper",
          "y": 1.0,
          "yanchor": "bottom",
          "yref": "paper"
         }
        ],
        "title": {
         "text": "CS-K-Means vs K-Means performance across Datasets from core-to-outer-layers",
         "x": 0.5,
         "xanchor": "center"
        },
        "font": {
         "size": 14
        },
        "legend": {
         "font": {
          "size": 14
         },
         "orientation": "h",
         "yanchor": "bottom",
         "y": -0.5,
         "xanchor": "center",
         "x": 0.5
        },
        "width": 1200,
        "height": 300
       },
       "config": {
        "plotlyServerURL": "https://plot.ly"
       }
      }
     },
     "metadata": {},
     "output_type": "display_data"
    }
   ],
   "execution_count": 88
  },
  {
   "metadata": {
    "ExecuteTime": {
     "end_time": "2025-10-03T07:17:51.505776Z",
     "start_time": "2025-10-03T07:17:50.054585Z"
    }
   },
   "cell_type": "code",
   "source": "pio.write_image(fig, \"cskmeans_vs_kmeans.pdf\", width=1200, height=300, scale=1)",
   "id": "6fa5c08a905b72e1",
   "outputs": [],
   "execution_count": 89
  },
  {
   "metadata": {},
   "cell_type": "code",
   "outputs": [],
   "execution_count": null,
   "source": "",
   "id": "abd9a8500b8463f5"
  }
 ],
 "metadata": {
  "kernelspec": {
   "display_name": "Python 3",
   "language": "python",
   "name": "python3"
  },
  "language_info": {
   "codemirror_mode": {
    "name": "ipython",
    "version": 2
   },
   "file_extension": ".py",
   "mimetype": "text/x-python",
   "name": "python",
   "nbconvert_exporter": "python",
   "pygments_lexer": "ipython2",
   "version": "2.7.6"
  }
 },
 "nbformat": 4,
 "nbformat_minor": 5
}
