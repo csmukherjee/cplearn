{
 "cells": [
  {
   "cell_type": "code",
   "id": "initial_id",
   "metadata": {
    "collapsed": true,
    "ExecuteTime": {
     "end_time": "2025-09-14T21:31:46.831891Z",
     "start_time": "2025-09-14T21:31:44.911171Z"
    }
   },
   "source": [
    "import warnings\n",
    "import data_call\n",
    "#ignore all the warnings\n",
    "warnings.filterwarnings(\"ignore\", category=FutureWarning)\n",
    "warnings.filterwarnings(\"ignore\", category=UserWarning)\n",
    "import numpy as np"
   ],
   "outputs": [],
   "execution_count": 1
  },
  {
   "metadata": {
    "ExecuteTime": {
     "end_time": "2025-09-14T21:31:47.479421Z",
     "start_time": "2025-09-14T21:31:47.429466Z"
    }
   },
   "cell_type": "code",
   "source": [
    "import plotly.graph_objects as go\n",
    "from plotly.subplots import make_subplots\n",
    "import math\n",
    "import plotly.colors as pc\n",
    "\n",
    "def plot_labeled_2d_arrays_subplots(array_list, label_list=None, title=\"2D Labeled Arrays in Subplots\"):\n",
    "    \"\"\"\n",
    "    Plot a list of 2D arrays in a grid of subplots with optional labels (for coloring).\n",
    "    Legend appears on the right and can toggle label visibility across all subplots.\n",
    "    \"\"\"\n",
    "    n = len(array_list)\n",
    "    cols = min(5, n)\n",
    "    rows = math.ceil(n / cols)\n",
    "\n",
    "    print(\"here\")\n",
    "\n",
    "\n",
    "    fig = make_subplots(\n",
    "        rows=rows,\n",
    "        cols=cols,\n",
    "        subplot_titles=[f\"Plot {i+1}\" for i in range(n)],\n",
    "        horizontal_spacing=0.04,\n",
    "        vertical_spacing=0.08,\n",
    "    )\n",
    "\n",
    "    # Prepare color mapping\n",
    "    if label_list is not None:\n",
    "        all_labels = np.concatenate(label_list)\n",
    "        unique_labels = np.unique(all_labels)\n",
    "        color_seq = pc.qualitative.Set1 + pc.qualitative.Set2 + pc.qualitative.Dark2\n",
    "        color_map = {label: color_seq[i % len(color_seq)] for i, label in enumerate(unique_labels)}\n",
    "    else:\n",
    "        unique_labels = []\n",
    "        color_map = {}\n",
    "\n",
    "    # Track which label's legend has already been shown\n",
    "    legend_shown = set()\n",
    "\n",
    "    for i, arr in enumerate(array_list):\n",
    "        row = i // cols + 1\n",
    "        col = i % cols + 1\n",
    "\n",
    "        if label_list is not None:\n",
    "            labels = label_list[i]\n",
    "            for label in np.unique(labels):\n",
    "                mask = (labels == label)\n",
    "                fig.add_trace(\n",
    "                    go.Scatter(\n",
    "                        x=arr[mask, 0],\n",
    "                        y=arr[mask, 1],\n",
    "                        mode=\"markers\",\n",
    "                        marker=dict(color=color_map[label], size=4),\n",
    "                        name=f\"Label {label}\",\n",
    "                        legendgroup=str(label),\n",
    "                        showlegend=(label not in legend_shown),\n",
    "                    ),\n",
    "                    row=row,\n",
    "                    col=col\n",
    "                )\n",
    "                legend_shown.add(label)\n",
    "        else:\n",
    "            fig.add_trace(\n",
    "                go.Scatter(\n",
    "                    x=arr[:, 0],\n",
    "                    y=arr[:, 1],\n",
    "                    mode=\"markers\",\n",
    "                    marker=dict(color=\"blue\", size=4),\n",
    "                    showlegend=False\n",
    "                ),\n",
    "                row=row,\n",
    "                col=col\n",
    "            )\n",
    "\n",
    "    fig.update_layout(\n",
    "        title=title,\n",
    "        template=\"plotly_white\",\n",
    "        height=250 * rows,\n",
    "        autosize=True,\n",
    "        margin=dict(l=20, r=180, t=60, b=40),\n",
    "        legend=dict(\n",
    "            title=\"Labels\",\n",
    "            x=1.01,\n",
    "            y=1,\n",
    "            xanchor=\"left\",\n",
    "            yanchor=\"top\",\n",
    "            traceorder=\"normal\",\n",
    "            itemsizing=\"constant\",\n",
    "            borderwidth=1\n",
    "        )\n",
    "    )\n",
    "\n",
    "\n",
    "    return fig\n",
    "\n",
    "import numpy as np\n",
    "import plotly.express as px\n",
    "\n",
    "def plot_embedding(embedding, labels=None):\n",
    "    \"\"\"\n",
    "    Plot a 2D embedding with optional labels for coloring.\n",
    "\n",
    "    Args:\n",
    "        embedding (ndarray): shape (n_samples, 2)\n",
    "        labels (array-like, optional): labels for coloring points\n",
    "    \"\"\"\n",
    "    if labels is None:\n",
    "        labels = np.zeros(embedding.shape[0])  # default: all same\n",
    "\n",
    "    fig = px.scatter(\n",
    "        x=embedding[:, 0],\n",
    "        y=embedding[:, 1],\n",
    "        color=labels.astype(str),  # convert to string for discrete legend\n",
    "        title=\"2D Embedding Visualization\",\n",
    "        labels={\"x\": \"Dim 1\", \"y\": \"Dim 2\", \"color\": \"Label\"}\n",
    "    )\n",
    "\n",
    "    fig.update_layout(\n",
    "        width=800,\n",
    "        height=500,\n",
    "        title=\"Custom size Plotly figure\"\n",
    "    )\n",
    "\n",
    "    fig.show()\n"
   ],
   "id": "c4b515687f976c63",
   "outputs": [],
   "execution_count": 2
  },
  {
   "metadata": {
    "ExecuteTime": {
     "end_time": "2025-09-14T21:31:50.654046Z",
     "start_time": "2025-09-14T21:31:47.868730Z"
    }
   },
   "cell_type": "code",
   "source": [
    "import data_call\n",
    "d_name='Muraro'\n",
    "X,label=data_call.get_dataset(d_name, mode='PCA')\n",
    "X_cg,label_new=data_call.get_dataset(d_name, mode='CG')\n",
    "\n",
    "if type(X_cg) is not np.ndarray:\n",
    "    X_cg=X_cg.toarray()\n",
    "\n",
    "\n",
    "print(X.shape,label.shape)\n",
    "print(type(X),type(X_cg))\n",
    "print(X_cg.shape,label_new.shape)\n",
    "\n",
    "\n",
    "hmap={}\n",
    "t=0\n",
    "for i in sorted(set(label)):\n",
    "    hmap[i]=t\n",
    "    t+=1\n",
    "new_label= [hmap[i] for i in label]\n",
    "y= new_label\n",
    "true_k=len(set(y))"
   ],
   "id": "88079f4712720f26",
   "outputs": [
    {
     "name": "stdout",
     "output_type": "stream",
     "text": [
      "(2122, 50) (2122,)\n",
      "<class 'numpy.ndarray'> <class 'numpy.ndarray'>\n",
      "(2122, 50) (2122,)\n"
     ]
    }
   ],
   "execution_count": 3
  },
  {
   "metadata": {
    "ExecuteTime": {
     "end_time": "2025-09-14T21:31:56.445315Z",
     "start_time": "2025-09-14T21:31:54.031121Z"
    }
   },
   "cell_type": "code",
   "source": [
    "from cplearn.corespect import Corespect\n",
    "corespect = Corespect(X)\n",
    "core = corespect.find_core(core_fraction=0.15)\n",
    "#{\"k\": true_k}\n",
    "cluster_core = corespect.cluster_core(core, cluster_algo='louvain',cluster_algo_params={\"ng_num\": 20,\"resolution\":1})\n",
    "propagated_data = corespect.propagate_labels(cluster_core, propagate_algo='adaptive_majority', propagate_algo_params={\"ng_num\": 20})"
   ],
   "id": "fb7d410ee4a0ed2b",
   "outputs": [
    {
     "name": "stdout",
     "output_type": "stream",
     "text": [
      "Obtained vertex ranking using FlowRank\n",
      "Clustered core using louvain\n",
      "Number of clusters found in the core: 11\n",
      "Remaining nodes in this round 1804\n",
      "check here 258\n",
      "Stage, eps, n1, n0 0 0 576 318\n",
      "Remaining nodes in this round 1546\n",
      "check here 175\n",
      "Stage, eps, n1, n0 0 0 751 576\n",
      "Remaining nodes in this round 1371\n",
      "check here 87\n",
      "Stage, eps, n1, n0 0 0 838 751\n",
      "Remaining nodes in this round 1284\n",
      "check here 59\n",
      "Stage, eps, n1, n0 0 0 897 838\n",
      "Remaining nodes in this round 1225\n",
      "check here 49\n",
      "Stage, eps, n1, n0 0 0 946 897\n",
      "Remaining nodes in this round 1176\n",
      "check here 35\n",
      "Stage, eps, n1, n0 0 0 981 946\n",
      "Remaining nodes in this round 1141\n",
      "check here 31\n",
      "Stage, eps, n1, n0 0 0 1012 981\n",
      "Remaining nodes in this round 1110\n",
      "check here 32\n",
      "Stage, eps, n1, n0 0 0 1044 1012\n",
      "Remaining nodes in this round 1078\n",
      "check here 27\n",
      "Stage, eps, n1, n0 0 0 1071 1044\n",
      "Remaining nodes in this round 1051\n",
      "check here 22\n",
      "Stage, eps, n1, n0 0 0 1093 1071\n",
      "Remaining nodes in this round 1029\n",
      "check here 37\n",
      "Stage, eps, n1, n0 0 0 1130 1093\n",
      "Remaining nodes in this round 992\n",
      "check here 27\n",
      "Stage, eps, n1, n0 0 0 1157 1130\n",
      "Remaining nodes in this round 965\n",
      "check here 20\n",
      "Stage, eps, n1, n0 0 0 1177 1157\n",
      "Remaining nodes in this round 945\n",
      "check here 14\n",
      "Stage, eps, n1, n0 0 0 1191 1177\n",
      "Remaining nodes in this round 931\n",
      "check here 7\n",
      "Stage, eps, n1, n0 0 0 1198 1191\n",
      "Recursive majority stopped at round number= 16\n",
      "Stage, eps, n1, n0 2 0 1562 1198\n",
      "Stage, eps, n1, n0 2 0 1784 1562\n",
      "Stage, eps, n1, n0 2 0 1895 1784\n",
      "Stage, eps, n1, n0 2 0 1954 1895\n",
      "Stage, eps, n1, n0 2 0 2015 1954\n",
      "Stage, eps, n1, n0 2 0 2076 2015\n",
      "Stage, eps, n1, n0 2 0 2094 2076\n",
      "Finished propagation with recursive majority addition in 22 rounds and 28 remaining nodes.\n"
     ]
    }
   ],
   "execution_count": 4
  },
  {
   "metadata": {},
   "cell_type": "code",
   "outputs": [],
   "execution_count": null,
   "source": "",
   "id": "15ead135da996276"
  },
  {
   "metadata": {
    "ExecuteTime": {
     "end_time": "2025-09-14T21:31:58.437684Z",
     "start_time": "2025-09-14T21:31:58.433196Z"
    }
   },
   "cell_type": "code",
   "source": [
    "layers,labels_for_layer=propagated_data.get_layers_and_labels()\n",
    "print([len(ell) for ell in layers])"
   ],
   "id": "85ae84d786696868",
   "outputs": [
    {
     "name": "stdout",
     "output_type": "stream",
     "text": [
      "[318, 880, 896]\n"
     ]
    }
   ],
   "execution_count": 5
  },
  {
   "metadata": {
    "ExecuteTime": {
     "end_time": "2025-09-14T21:32:17.229464Z",
     "start_time": "2025-09-14T21:32:08.093923Z"
    }
   },
   "cell_type": "code",
   "source": [
    "from cplearn.coremap_v2 import Coremap\n",
    "\n",
    "cmap=Coremap(X,round_info=propagated_data.round_info,labels=propagated_data.final_labels)\n",
    "dict_viz=cmap.anchored_map()\n",
    "\n"
   ],
   "id": "ca33a8c06ec5715",
   "outputs": [
    {
     "name": "stderr",
     "output_type": "stream",
     "text": [
      "/Users/chandrasekharmukherjee/.pyenv/versions/3.9.6/lib/python3.9/site-packages/tqdm/auto.py:21: TqdmWarning: IProgress not found. Please update jupyter and ipywidgets. See https://ipywidgets.readthedocs.io/en/stable/user_install.html\n",
      "  from .autonotebook import tqdm as notebook_tqdm\n"
     ]
    },
    {
     "name": "stdout",
     "output_type": "stream",
     "text": [
      "<cplearn.coremap_v2.coremap.Coremap object at 0x37af698b0>\n",
      "test2\n",
      "(2122, 15) (2122, 15) (2122, 15)\n",
      "2.583797317830043e-07 1.0\n",
      "0.05044614296566009 0.07849722313196696 0.10253925128898923 0.12773429069185058 0.15854204816036122 0.19982700858453342 0.263463409013346 0.38034587707124545 0.6802586152563006 \n",
      "\n"
     ]
    },
    {
     "name": "stderr",
     "output_type": "stream",
     "text": [
      "OMP: Info #276: omp_set_nested routine deprecated, please use omp_set_max_active_levels instead.\n"
     ]
    },
    {
     "name": "stdout",
     "output_type": "stream",
     "text": [
      "\n",
      "\n",
      "(514,) (514, 2) (514,)\n",
      "\n",
      "\n",
      "(514,) (514, 2) (514,)\n",
      "\n",
      "\n",
      "(514,) (514, 2) (514,)\n"
     ]
    }
   ],
   "execution_count": 7
  },
  {
   "metadata": {},
   "cell_type": "code",
   "source": [
    "from cplearn.visualizer import Visualizer as viz\n",
    "\n",
    "fig = viz(corespect,mode='layerwise').fig\n",
    "#Save fig as html\n",
    "fig.show()"
   ],
   "id": "337d95154a8b3b4b",
   "outputs": [],
   "execution_count": null
  },
  {
   "metadata": {},
   "cell_type": "code",
   "source": [
    "import numpy as np\n",
    "from cplearn.corespect import Corespect\n",
    "from cplearn.visualizer import Visualizer\n",
    "\n",
    "X = np.random.randn(500, 20)\n",
    "corespect = Corespect(X)\n",
    "core = corespect.find_core(core_fraction=0.15)\n",
    "cluster_core = corespect.cluster_core(\n",
    "    core,\n",
    "    cluster_algo=\"louvain\",\n",
    "    cluster_algo_params={\"ng_num\": 20, \"resolution\": 1}\n",
    ")\n",
    "propagated_data = corespect.propagate_labels(\n",
    "    cluster_core,\n",
    "    propagate_algo=\"adaptive_majority\",\n",
    "    propagate_algo_params={\"ng_num\": 20}\n",
    ")\n",
    "\n",
    "print(set(propagated_data.round_info))\n",
    "\n",
    "layers, labels = propagated_data.get_layers_and_labels()\n",
    "fig = Visualizer(corespect).fig\n",
    "fig.show()\n"
   ],
   "id": "d9f2161615fa0d48",
   "outputs": [],
   "execution_count": null
  },
  {
   "metadata": {},
   "cell_type": "code",
   "source": "",
   "id": "d1aba2a58d8f2062",
   "outputs": [],
   "execution_count": null
  }
 ],
 "metadata": {
  "kernelspec": {
   "display_name": "Python 3",
   "language": "python",
   "name": "python3"
  },
  "language_info": {
   "codemirror_mode": {
    "name": "ipython",
    "version": 2
   },
   "file_extension": ".py",
   "mimetype": "text/x-python",
   "name": "python",
   "nbconvert_exporter": "python",
   "pygments_lexer": "ipython2",
   "version": "2.7.6"
  }
 },
 "nbformat": 4,
 "nbformat_minor": 5
}
